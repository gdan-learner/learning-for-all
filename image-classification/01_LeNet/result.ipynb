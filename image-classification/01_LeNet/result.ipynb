{
 "cells": [
  {
   "cell_type": "code",
   "execution_count": 18,
   "metadata": {},
   "outputs": [],
   "source": [
    "import torch\n",
    "import torchvision.transforms as transforms\n",
    "from PIL import Image\n",
    "import torch.nn as nn\n",
    "import sys\n",
    "sys.path.append(r'DL-objectclassification\\LeNet')\n",
    "from model import LeNet\n",
    "import pandas as pd\n",
    "import os"
   ]
  },
  {
   "cell_type": "code",
   "execution_count": 19,
   "metadata": {},
   "outputs": [],
   "source": [
    "PRED_PATH = 'E:\\\\Dataset\\\\mask\\\\test'"
   ]
  },
  {
   "cell_type": "code",
   "execution_count": 20,
   "metadata": {},
   "outputs": [],
   "source": [
    "transform = transforms.Compose(\n",
    "    [transforms.Resize((32, 32)),\n",
    "        transforms.ToTensor(),\n",
    "        transforms.Normalize((0.5, 0.5, 0.5), (0.5, 0.5, 0.5))])"
   ]
  },
  {
   "cell_type": "code",
   "execution_count": 21,
   "metadata": {},
   "outputs": [],
   "source": [
    "classes = ('mask_weared_incorrect', 'mask_weared_incorrect', 'without_mask')"
   ]
  },
  {
   "cell_type": "code",
   "execution_count": 22,
   "metadata": {},
   "outputs": [
    {
     "data": {
      "text/plain": [
       "<All keys matched successfully>"
      ]
     },
     "execution_count": 22,
     "metadata": {},
     "output_type": "execute_result"
    }
   ],
   "source": [
    "net = LeNet()\n",
    "net.fc3 = nn.Linear(84, len(classes))\n",
    "net.load_state_dict(torch.load('weights\\Lenet2.pth'))"
   ]
  },
  {
   "cell_type": "code",
   "execution_count": 23,
   "metadata": {},
   "outputs": [],
   "source": [
    "def getFileList(path):\n",
    "    for root, dirs, files in os.walk(path):\n",
    "        return files\n",
    "file_name = getFileList(PRED_PATH)\n",
    "del(file_name[0])"
   ]
  },
  {
   "cell_type": "code",
   "execution_count": 24,
   "metadata": {},
   "outputs": [],
   "source": [
    "y_pre = []\n",
    "for step, img in enumerate(file_name,start=0):\n",
    "    im = Image.open(os.path.join(PRED_PATH,img))\n",
    "    im = transform(im)  # [C, H, W]\n",
    "    im = torch.unsqueeze(im, dim=0)  # [N, C, H, W]\n",
    "    with torch.no_grad():\n",
    "        outputs = net(im)\n",
    "        predict = torch.max(outputs, dim=1)[1].numpy()\n",
    "    y_pre.append(classes[int(predict)])"
   ]
  },
  {
   "cell_type": "code",
   "execution_count": 25,
   "metadata": {},
   "outputs": [],
   "source": [
    "#----------------结果输出----------------\n",
    "result=pd.read_csv('submit/sample_submit.csv')\n",
    "result['label']=y_pre\n",
    "result.to_csv('submit/result-de2.csv',index=False)"
   ]
  },
  {
   "cell_type": "code",
   "execution_count": null,
   "metadata": {},
   "outputs": [],
   "source": []
  }
 ],
 "metadata": {
  "kernelspec": {
   "display_name": "Python 3.8.13 ('rcnn')",
   "language": "python",
   "name": "python3"
  },
  "language_info": {
   "codemirror_mode": {
    "name": "ipython",
    "version": 3
   },
   "file_extension": ".py",
   "mimetype": "text/x-python",
   "name": "python",
   "nbconvert_exporter": "python",
   "pygments_lexer": "ipython3",
   "version": "3.8.13"
  },
  "orig_nbformat": 4,
  "vscode": {
   "interpreter": {
    "hash": "0477a58661eae540eafd0947b12d638aff1bda84ff916b5b978ae71ce1f7f0f5"
   }
  }
 },
 "nbformat": 4,
 "nbformat_minor": 2
}

{
 "cells": [
  {
   "cell_type": "code",
   "execution_count": 1,
   "metadata": {},
   "outputs": [],
   "source": [
    "# 实现xml格式转yolov5格式\n",
    "import xml.etree.ElementTree as ET\n",
    "import os"
   ]
  },
  {
   "cell_type": "code",
   "execution_count": 2,
   "metadata": {},
   "outputs": [],
   "source": [
    "# box [xmin,ymin,xmax,ymax]\n",
    "def convert(size, box):\n",
    "    x_center = (box[2] + box[0]) / 2.0\n",
    "    y_center = (box[3] + box[1]) / 2.0\n",
    "    # 归一化\n",
    "    x = x_center / size[0]\n",
    "    y = y_center / size[1]\n",
    "    # 求宽高并归一化\n",
    "    w = (box[2] - box[0]) / size[0]\n",
    "    h = (box[3] - box[1]) / size[1]\n",
    "    return (x, y, w, h)"
   ]
  },
  {
   "cell_type": "code",
   "execution_count": 3,
   "metadata": {},
   "outputs": [],
   "source": [
    "def convert_annotation(xml_paths, yolo_paths, classes):\n",
    "    xml_files = os.listdir(xml_paths)\n",
    "    # 生成无序文件列表\n",
    "    print(f'xml_files:{xml_files}')\n",
    "    for file in xml_files:\n",
    "        xml_file_path = os.path.join(xml_paths, file)\n",
    "        yolo_txt_path = os.path.join(yolo_paths, file.split(\".\")[0]+ \".txt\")\n",
    "        tree = ET.parse(xml_file_path)\n",
    "        root = tree.getroot()\n",
    "        size = root.find(\"size\")\n",
    "        # 获取xml的width和height的值\n",
    "        w = int(size.find(\"width\").text)\n",
    "        h = int(size.find(\"height\").text)\n",
    "        # object标签可能会存在多个，所以要迭代\n",
    "        with open(yolo_txt_path, 'w') as f:\n",
    "            for obj in root.iter(\"object\"):\n",
    "                difficult = obj.find(\"difficult\").text\n",
    "                # 种类类别\n",
    "                cls = obj.find(\"name\").text\n",
    "                if cls not in classes or difficult == 1:\n",
    "                    continue\n",
    "                # 转换成训练模式读取的标签\n",
    "                cls_id = classes.index(cls)\n",
    "                xml_box = obj.find(\"bndbox\")\n",
    "                box = (float(xml_box.find(\"xmin\").text), float(xml_box.find(\"ymin\").text),\n",
    "                       float(xml_box.find(\"xmax\").text), float(xml_box.find(\"ymax\").text))\n",
    "                boxex = convert((w, h), box)\n",
    "                # yolo标准格式类别 x_center,y_center,width,height\n",
    "                f.write(str(cls_id) + \" \" + \" \".join([str(s) for s in boxex]) + '\\n')"
   ]
  },
  {
   "cell_type": "code",
   "execution_count": 4,
   "metadata": {},
   "outputs": [
    {
     "name": "stdout",
     "output_type": "stream",
     "text": [
      "xml_files:['000081.xml', '000082.xml', '000083.xml', '000084.xml', '000085.xml', '000086.xml', '000087.xml', '000088.xml', '000089.xml', '000090.xml', '000091.xml', '000092.xml', '000093.xml', '000094.xml', '000095.xml', '000096.xml', '000097.xml', '000098.xml', '000099.xml', '000100.xml', '000101.xml', '000102.xml', '000103.xml', '000104.xml', '000105.xml', '000106.xml', '000107.xml', '000108.xml', '000109.xml', '000110.xml', '000111.xml', '000112.xml', '000113.xml', '000114.xml', '000115.xml', '000116.xml', '000117.xml', '000118.xml', '000119.xml', '000120.xml', '000121.xml', '000122.xml', '000123.xml', '000124.xml', '000125.xml', '000126.xml', '000127.xml', '000128.xml', '000129.xml', '000130.xml', '000131.xml', '000132.xml', '000133.xml', '000134.xml', '000135.xml', '000136.xml', '000137.xml', '000138.xml', '000139.xml', '000140.xml', '000141.xml', '000142.xml', '000143.xml', '000144.xml', '000145.xml', '000146.xml', '000147.xml', '000148.xml', '000149.xml', '000150.xml', '000151.xml', '000152.xml', '000153.xml', '000154.xml', '000155.xml', '000156.xml', '000157.xml', '000158.xml', '000159.xml', '000160.xml', '000161.xml', '000162.xml', '000163.xml', '000164.xml', '000165.xml', '000166.xml', '000167.xml', '000168.xml', '000169.xml', '000170.xml', '000171.xml', '000172.xml', '000173.xml', '000174.xml', '000175.xml', '000176.xml', '000177.xml', '000178.xml', '000179.xml', '000180.xml', '000181.xml', '000182.xml', '000183.xml', '000184.xml', '000185.xml', '000186.xml', '000187.xml', '000188.xml', '000189.xml', '000190.xml', '000191.xml', '000192.xml', '000193.xml', '000194.xml', '000195.xml', '000196.xml', '000197.xml', '000198.xml', '000199.xml', '000200.xml', '000201.xml', '000202.xml', '000203.xml', '000204.xml', '000205.xml', '000206.xml', '000207.xml', '000208.xml', '000209.xml', '000210.xml', '000211.xml', '000212.xml', '000213.xml', '000214.xml', '000215.xml', '000216.xml', '000217.xml', '000218.xml', '000219.xml', '000220.xml', '000221.xml', '000222.xml', '000223.xml', '000224.xml', '000225.xml', '000226.xml', '000227.xml', '000228.xml', '000229.xml', '000230.xml', '000231.xml', '000232.xml', '000233.xml', '000234.xml', '000235.xml', '000236.xml', '000237.xml', '000238.xml', '000239.xml', '000240.xml', '000241.xml', '000242.xml', '000243.xml', '000244.xml', '000245.xml', '000246.xml', '000247.xml', '000248.xml', '000249.xml', '000250.xml', '000251.xml', '000252.xml', '000253.xml', '000254.xml', '000255.xml', '000256.xml', '000257.xml', '000258.xml', '000259.xml', '000260.xml', '000261.xml', '000262.xml', '000263.xml', '000264.xml', '000265.xml', '000266.xml', '000267.xml', '000268.xml', '000269.xml', '000270.xml', '000271.xml', '000272.xml', '000273.xml', '000274.xml', '000275.xml', '000276.xml', '000277.xml', '000278.xml', '000279.xml', '000280.xml', '000281.xml', '000282.xml', '000283.xml', '000284.xml', '000285.xml', '000286.xml', '000287.xml', '000288.xml', '000289.xml', '000290.xml', '000291.xml', '000292.xml', '000293.xml', '000294.xml', '000295.xml', '000296.xml', '000297.xml', '000298.xml', '000299.xml', '000300.xml', '000301.xml', '000302.xml', '000303.xml', '000304.xml', '000305.xml', '000306.xml', '000307.xml', '000308.xml', '000309.xml', '000310.xml', '000311.xml', '000312.xml', '000313.xml', '000314.xml', '000315.xml', '000316.xml', '000317.xml', '000318.xml', '000319.xml', '000320.xml', '000321.xml', '000322.xml', '000323.xml', '000324.xml', '000325.xml', '000326.xml', '000327.xml', '000328.xml', '000329.xml', '000330.xml', '000331.xml', '000332.xml', '000333.xml', '000334.xml', '000335.xml', '000336.xml', '000337.xml', '000338.xml', '000339.xml', '000340.xml', '000341.xml', '000342.xml', '000343.xml', '000344.xml', '000345.xml', '000346.xml', '000347.xml', '000348.xml', '000349.xml', '000350.xml', '000351.xml', '000352.xml', '000353.xml', '000354.xml', '000355.xml', '000356.xml', '000357.xml', '000358.xml', '000359.xml', '000360.xml', '000361.xml', '000362.xml', '000363.xml', '000364.xml', '000365.xml', '000366.xml', '000367.xml', '000368.xml', '000369.xml', '000370.xml', '02_0017.xml', '02_0018.xml', '02_0019.xml', '02_0025.xml', '02_0026.xml', '02_0035.xml', '02_0040.xml', '02_0041.xml', '02_0043.xml', '02_0045.xml']\n"
     ]
    }
   ],
   "source": [
    "if __name__ == \"__main__\":\n",
    "    # 数据的类别\n",
    "    # classes_train = ['air-hole','slag-inclusion','hollow-bead']   # 修改1，类别\n",
    "    classes_train = ['defect']\n",
    "\n",
    "    # xml存储地址\n",
    "    xml_dir = \"../../../train/02/Annotations\"  # 修改2，读取位置\n",
    "\n",
    "    # yolo存储地址\n",
    "    yolo_txt_dir = \"../../../train_label/train/02/Annotations_txt\"   # 修改3，保存位置\n",
    "    \n",
    "    # voc转yolo\n",
    "    convert_annotation(xml_paths=xml_dir, yolo_paths=yolo_txt_dir,classes=classes_train)"
   ]
  },
  {
   "cell_type": "code",
   "execution_count": null,
   "metadata": {},
   "outputs": [],
   "source": []
  }
 ],
 "metadata": {
  "kernelspec": {
   "display_name": "Python 3.10.4 ('pyod')",
   "language": "python",
   "name": "python3"
  },
  "language_info": {
   "codemirror_mode": {
    "name": "ipython",
    "version": 3
   },
   "file_extension": ".py",
   "mimetype": "text/x-python",
   "name": "python",
   "nbconvert_exporter": "python",
   "pygments_lexer": "ipython3",
   "version": "3.10.4"
  },
  "orig_nbformat": 4,
  "vscode": {
   "interpreter": {
    "hash": "e950a5523f6a87c3bb472845fa688131d0a573c16641d1cb8f45cc33fca422b9"
   }
  }
 },
 "nbformat": 4,
 "nbformat_minor": 2
}

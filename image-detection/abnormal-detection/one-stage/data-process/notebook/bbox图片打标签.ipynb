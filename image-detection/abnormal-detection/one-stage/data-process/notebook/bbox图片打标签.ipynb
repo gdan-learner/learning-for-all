{
 "cells": [
  {
   "cell_type": "markdown",
   "metadata": {},
   "source": [
    "会在训练集目录下多两个文件夹：\n",
    "abnormImages ： 把异常图片拿出来好做处理\n",
    "abnormImagesLabel ：把异常图片打上标签"
   ]
  },
  {
   "cell_type": "code",
   "execution_count": 19,
   "metadata": {},
   "outputs": [],
   "source": [
    "import os\n",
    "import shutil\n",
    "import warnings\n",
    "import json\n",
    "from PIL import Image, ImageDraw\n",
    "from PIL import ImageFont\n",
    "warnings.filterwarnings('ignore')"
   ]
  },
  {
   "cell_type": "code",
   "execution_count": 20,
   "metadata": {},
   "outputs": [],
   "source": [
    "# 改一下 BASE_PATH 运行三次\n",
    "BASE_PATH = \"../../../train/01/\"\n",
    "\n",
    "IMG_TRAIN_PATH = os.path.join(BASE_PATH, \"Images\")\n",
    "XML_PATH = os.path.join(BASE_PATH, \"Annotations\")\n",
    "ABNORM_IMG_PATH = os.path.join(BASE_PATH, \"abnormImages\")\n",
    "ABNORM_LABEL_PATH = os.path.join(BASE_PATH, \"abnormImagesLabel\")\n",
    "\n",
    "IMG_TEST_PATH = '../../../test/Images/'\n",
    "IMAGE_TYPE = '.jpg'"
   ]
  },
  {
   "cell_type": "markdown",
   "metadata": {},
   "source": [
    "# 1. 将三类10张异常图片拿出来放到一个文件夹当中"
   ]
  },
  {
   "cell_type": "code",
   "execution_count": 21,
   "metadata": {},
   "outputs": [],
   "source": [
    "# os.walk方法用于通过在目录树中游走输出在目录中的文件名\n",
    "def getOutFileList(path):\n",
    "    for root, dirs, files in os.walk(path):\n",
    "        return files\n",
    "file_name = getOutFileList(XML_PATH)\n",
    "image_name_lists = getOutFileList(IMG_TRAIN_PATH)"
   ]
  },
  {
   "cell_type": "code",
   "execution_count": 22,
   "metadata": {},
   "outputs": [
    {
     "data": {
      "text/plain": [
       "[1, 2, 21, 34, 37, 44, 52, 66, 71, 79]"
      ]
     },
     "execution_count": 22,
     "metadata": {},
     "output_type": "execute_result"
    }
   ],
   "source": [
    "# 异常图片索引\n",
    "def abnormal_index(file_name):\n",
    "    abnormal_args = []\n",
    "    for name in file_name:\n",
    "        abnormal_args.append(int(os.path.splitext(name)[0].split('_')[1]))\n",
    "    return abnormal_args\n",
    "\n",
    "abnormal_args = abnormal_index(file_name)\n",
    "abnormal_args"
   ]
  },
  {
   "cell_type": "code",
   "execution_count": 23,
   "metadata": {},
   "outputs": [],
   "source": [
    "def create_abnormal_lists(image_name_lists, abnormal_args, old_file_path ,outlier_file):\n",
    "    '''\n",
    "    创建abnormalImage的文件夹,里面放复制过来的异常图片\n",
    "    :param image_name_lists: 全部图片的数组, list格式\n",
    "    :param abnormal_args: 异常图片的数组索引, list格式\n",
    "    :param outlier_file: 输出图片的位置\n",
    "    :param old_file_path: 需要复制图片的位置\n",
    "    '''\n",
    "    # 判断路径是否存在\n",
    "    isExists = os.path.exists(outlier_file)\n",
    "    file_img = old_file_path\n",
    "    # 判断结果\n",
    "    if not isExists:\n",
    "        # 如果不存在则创建目录\n",
    "        # 创建目录操作函数\n",
    "        os.makedirs(outlier_file)\n",
    "        print(outlier_file + ' 创建成功')\n",
    "\n",
    "        for i in image_name_lists:\n",
    "            num = int(os.path.splitext(i)[0].split('_')[1])\n",
    "            if num in abnormal_args:\n",
    "                old_file_path = os.path.join(file_img,i)\n",
    "                new_file_path = os.path.join(outlier_file,i)\n",
    "                shutil.copy(old_file_path, new_file_path)\n",
    "        return True  \n",
    "    else:\n",
    "        # 如果目录存在则不创建，并提示目录已存在\n",
    "        print(outlier_file + ' 目录已存在')\n",
    "        return False"
   ]
  },
  {
   "cell_type": "code",
   "execution_count": 24,
   "metadata": {},
   "outputs": [
    {
     "name": "stdout",
     "output_type": "stream",
     "text": [
      "../../../train/01/abnormImages 创建成功\n"
     ]
    },
    {
     "data": {
      "text/plain": [
       "True"
      ]
     },
     "execution_count": 24,
     "metadata": {},
     "output_type": "execute_result"
    }
   ],
   "source": [
    "create_abnormal_lists(image_name_lists,abnormal_args,IMG_TRAIN_PATH,ABNORM_IMG_PATH)"
   ]
  },
  {
   "cell_type": "markdown",
   "metadata": {},
   "source": [
    "# 2.  给现有的异常图片用bbox打上标签"
   ]
  },
  {
   "cell_type": "code",
   "execution_count": 25,
   "metadata": {},
   "outputs": [],
   "source": [
    "def pil_draw(img_path,abnormal_file,outlier_file,pic_type):\n",
    "    # 读取json文件\n",
    "    with open(os.path.join(img_path,'TRAIN_objects.json'),'r') as load_f:\n",
    "        load_dict = json.load(load_f)\n",
    "    # print(load_dict)\n",
    "    for item in load_dict:\n",
    "        # print(item)\n",
    "        # 1.读取图片\n",
    "        im = Image.open(os.path.join(abnormal_file,item['name'] + pic_type))\n",
    "        # 2.获取标签 box_list\n",
    "        draw = ImageDraw.Draw(im)\n",
    "        for box_list,label in zip(item['boxes'],item['labels']):\n",
    "            # print(box_list)\n",
    "            draw.rectangle([box_list[0], box_list[1], box_list[2], box_list[3]],outline='red',width=1)  # 画bbox\n",
    "            font = ImageFont.truetype(\"consola.ttf\", 12, encoding=\"unic\" )  # 设置字体\n",
    "            draw.text((box_list[0]-15, box_list[1]-15),label, 'green', font)    # 写label\n",
    "        del draw\n",
    "        # 3.保存图片\n",
    "        isExists = os.path.exists(outlier_file)\n",
    "        if not isExists:\n",
    "            os.makedirs(outlier_file)   # 创建文件路径\n",
    "        else:\n",
    "            im.save(os.path.join(outlier_file, item['name'] + pic_type))   # 保存文件\n",
    "    print('保存成功')"
   ]
  },
  {
   "cell_type": "code",
   "execution_count": 26,
   "metadata": {},
   "outputs": [
    {
     "name": "stdout",
     "output_type": "stream",
     "text": [
      "保存成功\n"
     ]
    }
   ],
   "source": [
    "outlier_file = ABNORM_LABEL_PATH\n",
    "\n",
    "# 第二类数据有点奇怪，给的都是绿色，出来不是\n",
    "pil_draw(BASE_PATH,ABNORM_IMG_PATH,outlier_file,IMAGE_TYPE)"
   ]
  },
  {
   "cell_type": "code",
   "execution_count": null,
   "metadata": {},
   "outputs": [],
   "source": []
  }
 ],
 "metadata": {
  "kernelspec": {
   "display_name": "Python 3.10.4 ('pyod')",
   "language": "python",
   "name": "python3"
  },
  "language_info": {
   "codemirror_mode": {
    "name": "ipython",
    "version": 3
   },
   "file_extension": ".py",
   "mimetype": "text/x-python",
   "name": "python",
   "nbconvert_exporter": "python",
   "pygments_lexer": "ipython3",
   "version": "3.10.4"
  },
  "orig_nbformat": 4,
  "vscode": {
   "interpreter": {
    "hash": "e950a5523f6a87c3bb472845fa688131d0a573c16641d1cb8f45cc33fca422b9"
   }
  }
 },
 "nbformat": 4,
 "nbformat_minor": 2
}

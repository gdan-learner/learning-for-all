{
 "cells": [
  {
   "cell_type": "code",
   "execution_count": 9,
   "metadata": {},
   "outputs": [],
   "source": [
    "import os\n",
    "import json\n",
    "from PIL import Image, ImageDraw\n",
    "import pandas as pd\n",
    "import torch\n",
    "import numpy as np"
   ]
  },
  {
   "cell_type": "code",
   "execution_count": 10,
   "metadata": {},
   "outputs": [],
   "source": [
    "anlables_path = '../../../labels'\n",
    "alltest_path = '../../../test/Images/'\n",
    "result_path = '../../../detection-results'"
   ]
  },
  {
   "cell_type": "code",
   "execution_count": 11,
   "metadata": {},
   "outputs": [
    {
     "data": {
      "text/plain": [
       "['01_0001.txt',\n",
       " '01_0006.txt',\n",
       " '01_0007.txt',\n",
       " '01_0009.txt',\n",
       " '01_0010.txt',\n",
       " '01_0011.txt',\n",
       " '01_0015.txt',\n",
       " '01_0017.txt',\n",
       " '01_0018.txt',\n",
       " '01_0020.txt',\n",
       " '02_0001.txt',\n",
       " '02_0002.txt',\n",
       " '02_0003.txt',\n",
       " '02_0006.txt',\n",
       " '02_0007.txt',\n",
       " '02_0008.txt',\n",
       " '02_0009.txt',\n",
       " '02_0011.txt',\n",
       " '02_0014.txt',\n",
       " '02_0019.txt',\n",
       " '03_0001.txt',\n",
       " '03_0004.txt',\n",
       " '03_0007.txt',\n",
       " '03_0008.txt',\n",
       " '03_0013.txt',\n",
       " '03_0014.txt',\n",
       " '03_0018.txt',\n",
       " '03_0019.txt',\n",
       " '03_0020.txt']"
      ]
     },
     "execution_count": 11,
     "metadata": {},
     "output_type": "execute_result"
    }
   ],
   "source": [
    "# 读取txt文件\n",
    "def getFileList(path):\n",
    "    for root, dirs, files in os.walk(path):\n",
    "        return files\n",
    "anfile_names = getFileList(anlables_path)\n",
    "anfile_names"
   ]
  },
  {
   "cell_type": "code",
   "execution_count": 12,
   "metadata": {},
   "outputs": [
    {
     "data": {
      "text/plain": [
       "['01_0001.jpg',\n",
       " '01_0002.jpg',\n",
       " '01_0003.jpg',\n",
       " '01_0004.jpg',\n",
       " '01_0005.jpg',\n",
       " '01_0006.jpg',\n",
       " '01_0007.jpg',\n",
       " '01_0008.jpg',\n",
       " '01_0009.jpg',\n",
       " '01_0010.jpg',\n",
       " '01_0011.jpg',\n",
       " '01_0012.jpg',\n",
       " '01_0013.jpg',\n",
       " '01_0014.jpg',\n",
       " '01_0015.jpg',\n",
       " '01_0016.jpg',\n",
       " '01_0017.jpg',\n",
       " '01_0018.jpg',\n",
       " '01_0019.jpg',\n",
       " '01_0020.jpg',\n",
       " '02_0001.PNG',\n",
       " '02_0002.PNG',\n",
       " '02_0003.PNG',\n",
       " '02_0004.PNG',\n",
       " '02_0005.PNG',\n",
       " '02_0006.PNG',\n",
       " '02_0007.PNG',\n",
       " '02_0008.PNG',\n",
       " '02_0009.PNG',\n",
       " '02_0010.PNG',\n",
       " '02_0011.PNG',\n",
       " '02_0012.PNG',\n",
       " '02_0013.PNG',\n",
       " '02_0014.PNG',\n",
       " '02_0015.PNG',\n",
       " '02_0016.PNG',\n",
       " '02_0017.PNG',\n",
       " '02_0018.PNG',\n",
       " '02_0019.PNG',\n",
       " '02_0020.PNG',\n",
       " '03_0001.PNG',\n",
       " '03_0002.PNG',\n",
       " '03_0003.PNG',\n",
       " '03_0004.PNG',\n",
       " '03_0005.PNG',\n",
       " '03_0006.PNG',\n",
       " '03_0007.PNG',\n",
       " '03_0008.PNG',\n",
       " '03_0009.PNG',\n",
       " '03_0010.PNG',\n",
       " '03_0011.PNG',\n",
       " '03_0012.PNG',\n",
       " '03_0013.PNG',\n",
       " '03_0014.PNG',\n",
       " '03_0015.PNG',\n",
       " '03_0016.PNG',\n",
       " '03_0017.PNG',\n",
       " '03_0018.PNG',\n",
       " '03_0019.PNG',\n",
       " '03_0020.PNG']"
      ]
     },
     "execution_count": 12,
     "metadata": {},
     "output_type": "execute_result"
    }
   ],
   "source": [
    "# 读取测试所有文件\n",
    "def getTestList(path):\n",
    "    for root, dirs, files in os.walk(path):\n",
    "        return files\n",
    "file_test_lists = getFileList(alltest_path)\n",
    "file_test_lists"
   ]
  },
  {
   "cell_type": "code",
   "execution_count": 13,
   "metadata": {},
   "outputs": [
    {
     "data": {
      "text/plain": [
       "(1182, 816)"
      ]
     },
     "execution_count": 13,
     "metadata": {},
     "output_type": "execute_result"
    }
   ],
   "source": [
    "# 获取 image-size\n",
    "def getImageSize(path,filename,type):\n",
    "    image = Image.open(os.path.join(path,filename + type))\n",
    "    return image.size\n",
    "getImageSize(alltest_path,os.path.splitext(anfile_names[0])[0],'.jpg')"
   ]
  },
  {
   "cell_type": "code",
   "execution_count": 14,
   "metadata": {},
   "outputs": [],
   "source": [
    "# box [cx,cy,w,h]\n",
    "def convert(size, box):\n",
    "     # 解宽高归一化\n",
    "    x_center = box[0] * size[0]\n",
    "    y_center = box[1] * size[1]\n",
    "\n",
    "    xmin = (2 * x_center - box[2] * size[0]) / 2.0\n",
    "    xmax = (2 * x_center + box[2] * size[0]) / 2.0\n",
    "    \n",
    "    ymin = (2 * y_center - box[3] * size[1]) / 2.0\n",
    "    ymax = (2 * y_center + box[3] * size[1]) / 2.0\n",
    "\n",
    "#     xmin = int(((float(box[0]))*size[0]+1)-(float(box[2]))*0.5*size[0])\n",
    "#     ymin = int(((float(box[1]))*size[1]+1)-(float(box[3]))*0.5*size[1])\n",
    "\n",
    "#     xmax = int(((float(box[0]))*size[0]+1)+(float(box[2]))*0.5*size[0])\n",
    "#     ymax = int(((float(box[1]))*size[1]+1)+(float(box[3]))*0.5*size[1])\n",
    "\n",
    "    return (int(xmin), int(ymin), int(xmax), int(ymax))"
   ]
  },
  {
   "cell_type": "code",
   "execution_count": 15,
   "metadata": {},
   "outputs": [],
   "source": [
    "# 生成结果文件\n",
    "def pro_result(file_test_lists,file_name,file_path,test_path,result_path=result_path):\n",
    "    '''\n",
    "        file_test_lists: 所有测试图片的名字\n",
    "        file_name: 从yolo检测到异常的label\n",
    "        file_path: 异常图片的label的path位置\n",
    "        file_test: 所有测试图片的图片的path位置\n",
    "        result_path: 输出文件位置\n",
    "    '''\n",
    "    for fileitem in file_test_lists:\n",
    "        testfile = os.path.splitext(fileitem)[0]\n",
    "        type = os.path.splitext(fileitem)[1]\n",
    "        print(testfile)\n",
    "        if testfile+'.txt' in file_name:\n",
    "            abnormfile = testfile + '.txt'\n",
    "            # 读取txt文件\n",
    "            with open(os.path.join(file_path,abnormfile),'r') as load_f:\n",
    "                for item in load_f:\n",
    "                    # txt内容\n",
    "                    item_args = item.split()\n",
    "                    img_w, img_h = getImageSize(test_path,os.path.splitext(abnormfile)[0],type)\n",
    "                    box = (float(item_args[1]), float(item_args[2]),\n",
    "                        float(item_args[3]), float(item_args[4]))\n",
    "\n",
    "                    # 转换为 box [xmin,ymin,xmax,ymax]\n",
    "                    boxex = convert((img_w, img_h), box)\n",
    "\n",
    "                    # 写到一个新的文件里面\n",
    "                    with open(os.path.join(result_path,abnormfile), 'a') as file:\n",
    "                        file.write(\"defect\" + \" \" + str(round(float(item_args[5]), 2)) + \" \" + \" \".join([str(s) for s in boxex]) + '\\n')\n",
    "                        # file.write(item_args[0] + \" \" + \" \".join([str(s) for s in box]) + '\\n')\n",
    "        else:\n",
    "            # 正常图片直接给空\n",
    "            emptyfile = testfile + '.txt'\n",
    "            with open(os.path.join(result_path,emptyfile), 'w') as file:\n",
    "                pass\n"
   ]
  },
  {
   "cell_type": "code",
   "execution_count": 16,
   "metadata": {},
   "outputs": [
    {
     "name": "stdout",
     "output_type": "stream",
     "text": [
      "01_0001\n",
      "01_0002\n",
      "01_0003\n",
      "01_0004\n",
      "01_0005\n",
      "01_0006\n",
      "01_0007\n",
      "01_0008\n",
      "01_0009\n",
      "01_0010\n",
      "01_0011\n",
      "01_0012\n",
      "01_0013\n",
      "01_0014\n",
      "01_0015\n",
      "01_0016\n",
      "01_0017\n",
      "01_0018\n",
      "01_0019\n",
      "01_0020\n",
      "02_0001\n",
      "02_0002\n",
      "02_0003\n",
      "02_0004\n",
      "02_0005\n",
      "02_0006\n",
      "02_0007\n",
      "02_0008\n",
      "02_0009\n",
      "02_0010\n",
      "02_0011\n",
      "02_0012\n",
      "02_0013\n",
      "02_0014\n",
      "02_0015\n",
      "02_0016\n",
      "02_0017\n",
      "02_0018\n",
      "02_0019\n",
      "02_0020\n",
      "03_0001\n",
      "03_0002\n",
      "03_0003\n",
      "03_0004\n",
      "03_0005\n",
      "03_0006\n",
      "03_0007\n",
      "03_0008\n",
      "03_0009\n",
      "03_0010\n",
      "03_0011\n",
      "03_0012\n",
      "03_0013\n",
      "03_0014\n",
      "03_0015\n",
      "03_0016\n",
      "03_0017\n",
      "03_0018\n",
      "03_0019\n",
      "03_0020\n"
     ]
    }
   ],
   "source": [
    "pro_result(file_test_lists,anfile_names,anlables_path,alltest_path)"
   ]
  },
  {
   "cell_type": "code",
   "execution_count": null,
   "metadata": {},
   "outputs": [],
   "source": []
  }
 ],
 "metadata": {
  "kernelspec": {
   "display_name": "Python 3.10.4 ('pyod')",
   "language": "python",
   "name": "python3"
  },
  "language_info": {
   "codemirror_mode": {
    "name": "ipython",
    "version": 3
   },
   "file_extension": ".py",
   "mimetype": "text/x-python",
   "name": "python",
   "nbconvert_exporter": "python",
   "pygments_lexer": "ipython3",
   "version": "3.10.4"
  },
  "orig_nbformat": 4,
  "vscode": {
   "interpreter": {
    "hash": "e950a5523f6a87c3bb472845fa688131d0a573c16641d1cb8f45cc33fca422b9"
   }
  }
 },
 "nbformat": 4,
 "nbformat_minor": 2
}

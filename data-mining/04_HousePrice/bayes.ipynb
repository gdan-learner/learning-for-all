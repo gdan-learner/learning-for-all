{
 "cells": [
  {
   "cell_type": "code",
   "execution_count": 2,
   "metadata": {},
   "outputs": [],
   "source": [
    "from sklearn.datasets import make_classification\n",
    "from sklearn.ensemble import RandomForestClassifier\n",
    "from sklearn.model_selection import cross_val_score\n",
    "from bayes_opt import BayesianOptimization\n",
    "import numpy as np\n",
    "import pandas as pd"
   ]
  },
  {
   "cell_type": "code",
   "execution_count": 3,
   "metadata": {},
   "outputs": [],
   "source": [
    "# 产生随机分类数据集，10个特征， 2个类别\n",
    "x, y = make_classification(n_samples=1000, n_features=5, n_classes=2)"
   ]
  },
  {
   "cell_type": "code",
   "execution_count": 8,
   "metadata": {},
   "outputs": [],
   "source": [
    "# 步骤一：构造黑盒目标函数\n",
    "def rf_cv(n_estimators, min_samples_split, max_features, max_depth):\n",
    "    val = cross_val_score(\n",
    "        RandomForestClassifier(n_estimators=int(n_estimators),\n",
    "                               min_samples_split=int(min_samples_split),\n",
    "                               max_features=min(max_features, 0.999),  # float\n",
    "                               max_depth=int(max_depth),\n",
    "                               random_state=2),\n",
    "        x, y, scoring='f1', cv=5\n",
    "    ).mean()\n",
    "    return val"
   ]
  },
  {
   "cell_type": "code",
   "execution_count": 9,
   "metadata": {},
   "outputs": [],
   "source": [
    "# 步骤二：确定取值空间\n",
    "pbounds = {'n_estimators': (10, 250),  # 表示取值范围为10至250\n",
    "           'min_samples_split': (2, 25),\n",
    "           'max_features': (0.1, 0.999),\n",
    "           'max_depth': (5, 15)}"
   ]
  },
  {
   "cell_type": "code",
   "execution_count": 10,
   "metadata": {},
   "outputs": [],
   "source": [
    "# 步骤三：构造贝叶斯优化器\n",
    "optimizer = BayesianOptimization(\n",
    "    f=rf_cv,  # 黑盒目标函数\n",
    "    pbounds=pbounds,  # 取值空间\n",
    "    verbose=2,  # verbose = 2 时打印全部，verbose = 1 时打印运行中发现的最大值，verbose = 0 将什么都不打印\n",
    "    random_state=1,\n",
    ")"
   ]
  },
  {
   "cell_type": "code",
   "execution_count": 11,
   "metadata": {},
   "outputs": [
    {
     "name": "stdout",
     "output_type": "stream",
     "text": [
      "|   iter    |  target   | max_depth | max_fe... | min_sa... | n_esti... |\n",
      "-------------------------------------------------------------------------\n",
      "| \u001b[0m 1       \u001b[0m | \u001b[0m 0.9494  \u001b[0m | \u001b[0m 9.17    \u001b[0m | \u001b[0m 0.7476  \u001b[0m | \u001b[0m 2.003   \u001b[0m | \u001b[0m 82.56   \u001b[0m |\n",
      "| \u001b[0m 2       \u001b[0m | \u001b[0m 0.9451  \u001b[0m | \u001b[0m 6.468   \u001b[0m | \u001b[0m 0.183   \u001b[0m | \u001b[0m 6.284   \u001b[0m | \u001b[0m 92.93   \u001b[0m |\n",
      "| \u001b[0m 3       \u001b[0m | \u001b[0m 0.9485  \u001b[0m | \u001b[0m 8.968   \u001b[0m | \u001b[0m 0.5844  \u001b[0m | \u001b[0m 11.64   \u001b[0m | \u001b[0m 174.5   \u001b[0m |\n",
      "| \u001b[0m 4       \u001b[0m | \u001b[0m 0.9493  \u001b[0m | \u001b[0m 7.045   \u001b[0m | \u001b[0m 0.8894  \u001b[0m | \u001b[0m 2.63    \u001b[0m | \u001b[0m 170.9   \u001b[0m |\n",
      "| \u001b[0m 5       \u001b[0m | \u001b[0m 0.9494  \u001b[0m | \u001b[0m 9.173   \u001b[0m | \u001b[0m 0.6023  \u001b[0m | \u001b[0m 5.229   \u001b[0m | \u001b[0m 57.54   \u001b[0m |\n",
      "| \u001b[0m 6       \u001b[0m | \u001b[0m 0.9444  \u001b[0m | \u001b[0m 10.36   \u001b[0m | \u001b[0m 0.1358  \u001b[0m | \u001b[0m 5.1     \u001b[0m | \u001b[0m 56.42   \u001b[0m |\n",
      "| \u001b[0m 7       \u001b[0m | \u001b[0m 0.9485  \u001b[0m | \u001b[0m 9.426   \u001b[0m | \u001b[0m 0.4717  \u001b[0m | \u001b[0m 14.6    \u001b[0m | \u001b[0m 188.6   \u001b[0m |\n",
      "| \u001b[0m 8       \u001b[0m | \u001b[0m 0.9485  \u001b[0m | \u001b[0m 9.883   \u001b[0m | \u001b[0m 0.3823  \u001b[0m | \u001b[0m 14.96   \u001b[0m | \u001b[0m 188.7   \u001b[0m |\n",
      "| \u001b[95m 9       \u001b[0m | \u001b[95m 0.9525  \u001b[0m | \u001b[95m 8.625   \u001b[0m | \u001b[95m 0.7956  \u001b[0m | \u001b[95m 2.543   \u001b[0m | \u001b[95m 83.2    \u001b[0m |\n",
      "| \u001b[0m 10      \u001b[0m | \u001b[0m 0.9495  \u001b[0m | \u001b[0m 9.966   \u001b[0m | \u001b[0m 0.3076  \u001b[0m | \u001b[0m 3.452   \u001b[0m | \u001b[0m 83.79   \u001b[0m |\n",
      "| \u001b[0m 11      \u001b[0m | \u001b[0m 0.9525  \u001b[0m | \u001b[0m 8.406   \u001b[0m | \u001b[0m 0.6192  \u001b[0m | \u001b[0m 2.842   \u001b[0m | \u001b[0m 83.96   \u001b[0m |\n",
      "| \u001b[0m 12      \u001b[0m | \u001b[0m 0.9515  \u001b[0m | \u001b[0m 7.114   \u001b[0m | \u001b[0m 0.5488  \u001b[0m | \u001b[0m 2.963   \u001b[0m | \u001b[0m 82.15   \u001b[0m |\n",
      "| \u001b[0m 13      \u001b[0m | \u001b[0m 0.9514  \u001b[0m | \u001b[0m 7.723   \u001b[0m | \u001b[0m 0.9769  \u001b[0m | \u001b[0m 4.168   \u001b[0m | \u001b[0m 83.8    \u001b[0m |\n",
      "| \u001b[0m 14      \u001b[0m | \u001b[0m 0.945   \u001b[0m | \u001b[0m 5.785   \u001b[0m | \u001b[0m 0.6745  \u001b[0m | \u001b[0m 2.299   \u001b[0m | \u001b[0m 83.96   \u001b[0m |\n",
      "| \u001b[0m 15      \u001b[0m | \u001b[0m 0.9403  \u001b[0m | \u001b[0m 7.355   \u001b[0m | \u001b[0m 0.3012  \u001b[0m | \u001b[0m 4.483   \u001b[0m | \u001b[0m 81.65   \u001b[0m |\n",
      "| \u001b[0m 16      \u001b[0m | \u001b[0m 0.9473  \u001b[0m | \u001b[0m 6.906   \u001b[0m | \u001b[0m 0.4273  \u001b[0m | \u001b[0m 2.021   \u001b[0m | \u001b[0m 81.82   \u001b[0m |\n",
      "| \u001b[0m 17      \u001b[0m | \u001b[0m 0.9465  \u001b[0m | \u001b[0m 9.268   \u001b[0m | \u001b[0m 0.1164  \u001b[0m | \u001b[0m 2.878   \u001b[0m | \u001b[0m 84.64   \u001b[0m |\n",
      "| \u001b[0m 18      \u001b[0m | \u001b[0m 0.9525  \u001b[0m | \u001b[0m 8.316   \u001b[0m | \u001b[0m 0.6393  \u001b[0m | \u001b[0m 2.673   \u001b[0m | \u001b[0m 83.24   \u001b[0m |\n",
      "| \u001b[0m 19      \u001b[0m | \u001b[0m 0.9475  \u001b[0m | \u001b[0m 8.517   \u001b[0m | \u001b[0m 0.2118  \u001b[0m | \u001b[0m 3.165   \u001b[0m | \u001b[0m 82.53   \u001b[0m |\n",
      "| \u001b[0m 20      \u001b[0m | \u001b[0m 0.9514  \u001b[0m | \u001b[0m 7.487   \u001b[0m | \u001b[0m 0.7902  \u001b[0m | \u001b[0m 2.643   \u001b[0m | \u001b[0m 83.17   \u001b[0m |\n",
      "| \u001b[0m 21      \u001b[0m | \u001b[0m 0.9431  \u001b[0m | \u001b[0m 7.746   \u001b[0m | \u001b[0m 0.1979  \u001b[0m | \u001b[0m 3.834   \u001b[0m | \u001b[0m 84.78   \u001b[0m |\n",
      "| \u001b[0m 22      \u001b[0m | \u001b[0m 0.9475  \u001b[0m | \u001b[0m 10.51   \u001b[0m | \u001b[0m 0.5629  \u001b[0m | \u001b[0m 4.194   \u001b[0m | \u001b[0m 82.68   \u001b[0m |\n",
      "| \u001b[0m 23      \u001b[0m | \u001b[0m 0.9493  \u001b[0m | \u001b[0m 10.45   \u001b[0m | \u001b[0m 0.9118  \u001b[0m | \u001b[0m 2.645   \u001b[0m | \u001b[0m 83.22   \u001b[0m |\n",
      "| \u001b[0m 24      \u001b[0m | \u001b[0m 0.9473  \u001b[0m | \u001b[0m 6.643   \u001b[0m | \u001b[0m 0.5964  \u001b[0m | \u001b[0m 3.643   \u001b[0m | \u001b[0m 82.84   \u001b[0m |\n",
      "| \u001b[0m 25      \u001b[0m | \u001b[0m 0.9506  \u001b[0m | \u001b[0m 8.314   \u001b[0m | \u001b[0m 0.9561  \u001b[0m | \u001b[0m 3.465   \u001b[0m | \u001b[0m 84.02   \u001b[0m |\n",
      "| \u001b[0m 26      \u001b[0m | \u001b[0m 0.9464  \u001b[0m | \u001b[0m 8.002   \u001b[0m | \u001b[0m 0.8014  \u001b[0m | \u001b[0m 2.625   \u001b[0m | \u001b[0m 82.73   \u001b[0m |\n",
      "| \u001b[0m 27      \u001b[0m | \u001b[0m 0.9464  \u001b[0m | \u001b[0m 13.99   \u001b[0m | \u001b[0m 0.5065  \u001b[0m | \u001b[0m 11.18   \u001b[0m | \u001b[0m 84.77   \u001b[0m |\n",
      "| \u001b[0m 28      \u001b[0m | \u001b[0m 0.9464  \u001b[0m | \u001b[0m 8.315   \u001b[0m | \u001b[0m 0.8416  \u001b[0m | \u001b[0m 2.36    \u001b[0m | \u001b[0m 84.39   \u001b[0m |\n",
      "| \u001b[0m 29      \u001b[0m | \u001b[0m 0.9495  \u001b[0m | \u001b[0m 14.94   \u001b[0m | \u001b[0m 0.33    \u001b[0m | \u001b[0m 16.23   \u001b[0m | \u001b[0m 98.76   \u001b[0m |\n",
      "| \u001b[0m 30      \u001b[0m | \u001b[0m 0.9495  \u001b[0m | \u001b[0m 8.965   \u001b[0m | \u001b[0m 0.4047  \u001b[0m | \u001b[0m 3.08    \u001b[0m | \u001b[0m 83.04   \u001b[0m |\n",
      "=========================================================================\n"
     ]
    }
   ],
   "source": [
    "optimizer.maximize(  # 运行\n",
    "    init_points=5,  # 随机搜索的步数\n",
    "    n_iter=25,  # 执行贝叶斯优化迭代次数\n",
    ")"
   ]
  },
  {
   "cell_type": "code",
   "execution_count": 12,
   "metadata": {},
   "outputs": [
    {
     "name": "stdout",
     "output_type": "stream",
     "text": [
      "[{'target': 0.9494347999396158, 'params': {'max_depth': 9.17022004702574, 'max_features': 0.7475717196045001, 'min_samples_split': 2.002630620798932, 'n_estimators': 82.55981743164155}}, {'target': 0.94506308257516, 'params': {'max_depth': 6.467558908171131, 'max_features': 0.18301239669714925, 'min_samples_split': 6.283984861686431, 'n_estimators': 92.93457449033146}}, {'target': 0.9484974472026451, 'params': {'max_depth': 8.967674742306698, 'max_features': 0.5843962438690179, 'min_samples_split': 11.64147383127578, 'n_estimators': 174.4526800952223}}, {'target': 0.9493391899928312, 'params': {'max_depth': 7.0445224973151745, 'max_features': 0.8894275753154599, 'min_samples_split': 2.6299146435523015, 'n_estimators': 170.91220244281652}}, {'target': 0.9494037023760488, 'params': {'max_depth': 9.17304802367127, 'max_features': 0.6022621557727307, 'min_samples_split': 5.2288995876903765, 'n_estimators': 57.54435738037091}}, {'target': 0.9444328066722832, 'params': {'max_depth': 10.360084947395638, 'max_features': 0.13583407404527187, 'min_samples_split': 5.100241713095619, 'n_estimators': 56.419935763580405}}, {'target': 0.9484974472026451, 'params': {'max_depth': 9.425573174554623, 'max_features': 0.47171016643272623, 'min_samples_split': 14.599513753070427, 'n_estimators': 188.60837957805668}}, {'target': 0.9484928062975401, 'params': {'max_depth': 9.883445526461841, 'max_features': 0.3822656579267689, 'min_samples_split': 14.961317020989686, 'n_estimators': 188.69954185065131}}, {'target': 0.9525261696387417, 'params': {'max_depth': 8.624730660571174, 'max_features': 0.7956193043419245, 'min_samples_split': 2.5431423798652606, 'n_estimators': 83.20441540565783}}, {'target': 0.9494887996444025, 'params': {'max_depth': 9.966405998385438, 'max_features': 0.30757378799205015, 'min_samples_split': 3.4517542345915517, 'n_estimators': 83.79426497471911}}, {'target': 0.9525261696387417, 'params': {'max_depth': 8.406326774064985, 'max_features': 0.6192489204975447, 'min_samples_split': 2.841658958803585, 'n_estimators': 83.95874653704945}}, {'target': 0.9515358140130363, 'params': {'max_depth': 7.113981051099994, 'max_features': 0.5488068916116626, 'min_samples_split': 2.9629118043113944, 'n_estimators': 82.15204184603263}}, {'target': 0.951426702806938, 'params': {'max_depth': 7.722967237436395, 'max_features': 0.976869632542702, 'min_samples_split': 4.167637590114323, 'n_estimators': 83.80396052133673}}, {'target': 0.9449608768856512, 'params': {'max_depth': 5.784787465772414, 'max_features': 0.674509535952887, 'min_samples_split': 2.2986732566759485, 'n_estimators': 83.96491670677759}}, {'target': 0.9403067588884844, 'params': {'max_depth': 7.355311217002831, 'max_features': 0.3011811858278502, 'min_samples_split': 4.48253553371772, 'n_estimators': 81.6512704384588}}, {'target': 0.9472576619303388, 'params': {'max_depth': 6.9058710892325355, 'max_features': 0.42726367122018627, 'min_samples_split': 2.0214619542414103, 'n_estimators': 81.81803925191976}}, {'target': 0.9465141463684578, 'params': {'max_depth': 9.267637765195452, 'max_features': 0.1163517999298124, 'min_samples_split': 2.8783609288033314, 'n_estimators': 84.63804546861299}}, {'target': 0.9525261696387417, 'params': {'max_depth': 8.315887941267269, 'max_features': 0.6393037313307396, 'min_samples_split': 2.6731716653392334, 'n_estimators': 83.24088541813532}}, {'target': 0.9474594200002986, 'params': {'max_depth': 8.516662175587111, 'max_features': 0.21176124895864676, 'min_samples_split': 3.1654247603368737, 'n_estimators': 82.53287458012741}}, {'target': 0.9514283744449866, 'params': {'max_depth': 7.487060451019163, 'max_features': 0.790238366988256, 'min_samples_split': 2.6430536626476897, 'n_estimators': 83.16567956384168}}, {'target': 0.9430661965975261, 'params': {'max_depth': 7.745849454417556, 'max_features': 0.1979065742354555, 'min_samples_split': 3.833598756414942, 'n_estimators': 84.78051720525255}}, {'target': 0.9474831643163745, 'params': {'max_depth': 10.512803240595527, 'max_features': 0.5628741459677532, 'min_samples_split': 4.194073218558363, 'n_estimators': 82.67895885352682}}, {'target': 0.9493321416662222, 'params': {'max_depth': 10.447197367669183, 'max_features': 0.911841050550897, 'min_samples_split': 2.6450647438143435, 'n_estimators': 83.22128566682599}}, {'target': 0.9472576619303388, 'params': {'max_depth': 6.642933826840107, 'max_features': 0.596368810787298, 'min_samples_split': 3.642894535535189, 'n_estimators': 82.83794217348355}}, {'target': 0.9505903791942643, 'params': {'max_depth': 8.31434373779597, 'max_features': 0.9560960558796064, 'min_samples_split': 3.4650017809212796, 'n_estimators': 84.01783169183237}}, {'target': 0.9464019447854028, 'params': {'max_depth': 8.00181237565759, 'max_features': 0.8014151257088761, 'min_samples_split': 2.6253837918024563, 'n_estimators': 82.72900670058061}}, {'target': 0.9463966281700673, 'params': {'max_depth': 13.989990333315351, 'max_features': 0.5065452844779411, 'min_samples_split': 11.181941888051792, 'n_estimators': 84.76677021858148}}, {'target': 0.9464019447854028, 'params': {'max_depth': 8.315395653007176, 'max_features': 0.8416420077601013, 'min_samples_split': 2.35965096042369, 'n_estimators': 84.38957824250119}}, {'target': 0.9495441411088219, 'params': {'max_depth': 14.942382842424944, 'max_features': 0.33000163779169145, 'min_samples_split': 16.22846313016438, 'n_estimators': 98.76105059640975}}, {'target': 0.949461954803233, 'params': {'max_depth': 8.964960527782349, 'max_features': 0.4047067524642669, 'min_samples_split': 3.0801952167120006, 'n_estimators': 83.04343218968428}}]\n",
      "{'target': 0.9525261696387417, 'params': {'max_depth': 8.624730660571174, 'max_features': 0.7956193043419245, 'min_samples_split': 2.5431423798652606, 'n_estimators': 83.20441540565783}}\n"
     ]
    }
   ],
   "source": [
    "print(optimizer.res)  # 打印所有优化的结果\n",
    "print(optimizer.max)  # 最好的结果与对应的参数"
   ]
  },
  {
   "cell_type": "code",
   "execution_count": null,
   "metadata": {},
   "outputs": [],
   "source": []
  }
 ],
 "metadata": {
  "kernelspec": {
   "display_name": "Python 3.8.13 ('ML')",
   "language": "python",
   "name": "python3"
  },
  "language_info": {
   "codemirror_mode": {
    "name": "ipython",
    "version": 3
   },
   "file_extension": ".py",
   "mimetype": "text/x-python",
   "name": "python",
   "nbconvert_exporter": "python",
   "pygments_lexer": "ipython3",
   "version": "3.8.13"
  },
  "orig_nbformat": 4,
  "vscode": {
   "interpreter": {
    "hash": "0e709c4988dd496cad6cf9f2692ac7822b9995cabcb3fe3c2bc9d931b0e033f9"
   }
  }
 },
 "nbformat": 4,
 "nbformat_minor": 2
}

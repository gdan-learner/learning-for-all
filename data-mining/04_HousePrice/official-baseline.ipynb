{
 "cells": [
  {
   "cell_type": "code",
   "execution_count": 75,
   "metadata": {},
   "outputs": [
    {
     "name": "stdout",
     "output_type": "stream",
     "text": [
      "%pylab is deprecated, use %matplotlib inline and import the required libraries.\n",
      "Populating the interactive namespace from numpy and matplotlib\n"
     ]
    },
    {
     "name": "stderr",
     "output_type": "stream",
     "text": [
      "d:\\Users\\96212\\anaconda3\\envs\\ML\\lib\\site-packages\\IPython\\core\\magics\\pylab.py:162: UserWarning: pylab import has clobbered these variables: ['clf']\n",
      "`%matplotlib` prevents importing * from pylab and numpy\n",
      "  warn(\"pylab import has clobbered these variables: %s\"  % clobbered +\n"
     ]
    }
   ],
   "source": [
    "import pandas as pd\n",
    "import seaborn as sns\n",
    "import numpy as np\n",
    "import lightgbm as lgb\n",
    "import joblib\n",
    "%pylab inline"
   ]
  },
  {
   "cell_type": "markdown",
   "metadata": {},
   "source": [
    "# 1.数据读取"
   ]
  },
  {
   "cell_type": "code",
   "execution_count": 76,
   "metadata": {},
   "outputs": [],
   "source": [
    "train_df = pd.read_csv('data/train.csv')\n",
    "test_df = pd.read_csv('data/test.csv')"
   ]
  },
  {
   "cell_type": "code",
   "execution_count": 77,
   "metadata": {},
   "outputs": [
    {
     "data": {
      "text/html": [
       "<div>\n",
       "<style scoped>\n",
       "    .dataframe tbody tr th:only-of-type {\n",
       "        vertical-align: middle;\n",
       "    }\n",
       "\n",
       "    .dataframe tbody tr th {\n",
       "        vertical-align: top;\n",
       "    }\n",
       "\n",
       "    .dataframe thead th {\n",
       "        text-align: right;\n",
       "    }\n",
       "</style>\n",
       "<table border=\"1\" class=\"dataframe\">\n",
       "  <thead>\n",
       "    <tr style=\"text-align: right;\">\n",
       "      <th></th>\n",
       "      <th>ID</th>\n",
       "      <th>区域1</th>\n",
       "      <th>区域2</th>\n",
       "      <th>区域3</th>\n",
       "      <th>街道</th>\n",
       "      <th>上传日期</th>\n",
       "      <th>房屋租金</th>\n",
       "      <th>服务费</th>\n",
       "      <th>供暖费用</th>\n",
       "      <th>电力基础价格</th>\n",
       "      <th>...</th>\n",
       "      <th>邮政编码</th>\n",
       "      <th>房间数量</th>\n",
       "      <th>所处楼层</th>\n",
       "      <th>建筑楼层</th>\n",
       "      <th>有花园</th>\n",
       "      <th>最后翻新年份</th>\n",
       "      <th>是新建筑</th>\n",
       "      <th>建成年份</th>\n",
       "      <th>价格趋势</th>\n",
       "      <th>上传图片数</th>\n",
       "    </tr>\n",
       "  </thead>\n",
       "  <tbody>\n",
       "    <tr>\n",
       "      <th>0</th>\n",
       "      <td>0</td>\n",
       "      <td>0</td>\n",
       "      <td>0</td>\n",
       "      <td>0</td>\n",
       "      <td>0</td>\n",
       "      <td>Oct19</td>\n",
       "      <td>569.0</td>\n",
       "      <td>140.0</td>\n",
       "      <td>NaN</td>\n",
       "      <td>NaN</td>\n",
       "      <td>...</td>\n",
       "      <td>0</td>\n",
       "      <td>3.0</td>\n",
       "      <td>2.0</td>\n",
       "      <td>3.0</td>\n",
       "      <td>False</td>\n",
       "      <td>NaN</td>\n",
       "      <td>False</td>\n",
       "      <td>1971.0</td>\n",
       "      <td>4.62</td>\n",
       "      <td>6</td>\n",
       "    </tr>\n",
       "    <tr>\n",
       "      <th>1</th>\n",
       "      <td>1</td>\n",
       "      <td>1</td>\n",
       "      <td>1</td>\n",
       "      <td>1</td>\n",
       "      <td>1</td>\n",
       "      <td>Oct19</td>\n",
       "      <td>560.0</td>\n",
       "      <td>120.0</td>\n",
       "      <td>NaN</td>\n",
       "      <td>NaN</td>\n",
       "      <td>...</td>\n",
       "      <td>1</td>\n",
       "      <td>2.0</td>\n",
       "      <td>NaN</td>\n",
       "      <td>NaN</td>\n",
       "      <td>False</td>\n",
       "      <td>NaN</td>\n",
       "      <td>False</td>\n",
       "      <td>1967.0</td>\n",
       "      <td>5.95</td>\n",
       "      <td>7</td>\n",
       "    </tr>\n",
       "    <tr>\n",
       "      <th>2</th>\n",
       "      <td>2</td>\n",
       "      <td>0</td>\n",
       "      <td>2</td>\n",
       "      <td>2</td>\n",
       "      <td>2</td>\n",
       "      <td>Feb20</td>\n",
       "      <td>720.0</td>\n",
       "      <td>NaN</td>\n",
       "      <td>NaN</td>\n",
       "      <td>NaN</td>\n",
       "      <td>...</td>\n",
       "      <td>2</td>\n",
       "      <td>1.0</td>\n",
       "      <td>1.0</td>\n",
       "      <td>1.0</td>\n",
       "      <td>False</td>\n",
       "      <td>NaN</td>\n",
       "      <td>False</td>\n",
       "      <td>2018.0</td>\n",
       "      <td>3.83</td>\n",
       "      <td>10</td>\n",
       "    </tr>\n",
       "    <tr>\n",
       "      <th>3</th>\n",
       "      <td>3</td>\n",
       "      <td>2</td>\n",
       "      <td>3</td>\n",
       "      <td>3</td>\n",
       "      <td>3</td>\n",
       "      <td>May19</td>\n",
       "      <td>695.0</td>\n",
       "      <td>153.0</td>\n",
       "      <td>NaN</td>\n",
       "      <td>NaN</td>\n",
       "      <td>...</td>\n",
       "      <td>3</td>\n",
       "      <td>2.0</td>\n",
       "      <td>2.0</td>\n",
       "      <td>3.0</td>\n",
       "      <td>False</td>\n",
       "      <td>NaN</td>\n",
       "      <td>False</td>\n",
       "      <td>1972.0</td>\n",
       "      <td>5.24</td>\n",
       "      <td>7</td>\n",
       "    </tr>\n",
       "    <tr>\n",
       "      <th>4</th>\n",
       "      <td>4</td>\n",
       "      <td>3</td>\n",
       "      <td>4</td>\n",
       "      <td>4</td>\n",
       "      <td>1</td>\n",
       "      <td>Oct19</td>\n",
       "      <td>1200.0</td>\n",
       "      <td>350.0</td>\n",
       "      <td>NaN</td>\n",
       "      <td>NaN</td>\n",
       "      <td>...</td>\n",
       "      <td>4</td>\n",
       "      <td>4.5</td>\n",
       "      <td>2.0</td>\n",
       "      <td>2.0</td>\n",
       "      <td>True</td>\n",
       "      <td>NaN</td>\n",
       "      <td>False</td>\n",
       "      <td>NaN</td>\n",
       "      <td>5.63</td>\n",
       "      <td>14</td>\n",
       "    </tr>\n",
       "  </tbody>\n",
       "</table>\n",
       "<p>5 rows × 31 columns</p>\n",
       "</div>"
      ],
      "text/plain": [
       "   ID  区域1  区域2  区域3  街道   上传日期    房屋租金    服务费  供暖费用  电力基础价格  ...  邮政编码  房间数量  \\\n",
       "0   0    0    0    0   0  Oct19   569.0  140.0   NaN     NaN  ...     0   3.0   \n",
       "1   1    1    1    1   1  Oct19   560.0  120.0   NaN     NaN  ...     1   2.0   \n",
       "2   2    0    2    2   2  Feb20   720.0    NaN   NaN     NaN  ...     2   1.0   \n",
       "3   3    2    3    3   3  May19   695.0  153.0   NaN     NaN  ...     3   2.0   \n",
       "4   4    3    4    4   1  Oct19  1200.0  350.0   NaN     NaN  ...     4   4.5   \n",
       "\n",
       "   所处楼层  建筑楼层    有花园  最后翻新年份   是新建筑    建成年份  价格趋势  上传图片数  \n",
       "0   2.0   3.0  False     NaN  False  1971.0  4.62      6  \n",
       "1   NaN   NaN  False     NaN  False  1967.0  5.95      7  \n",
       "2   1.0   1.0  False     NaN  False  2018.0  3.83     10  \n",
       "3   2.0   3.0  False     NaN  False  1972.0  5.24      7  \n",
       "4   2.0   2.0   True     NaN  False     NaN  5.63     14  \n",
       "\n",
       "[5 rows x 31 columns]"
      ]
     },
     "execution_count": 77,
     "metadata": {},
     "output_type": "execute_result"
    }
   ],
   "source": [
    "train_df.head()"
   ]
  },
  {
   "cell_type": "markdown",
   "metadata": {},
   "source": [
    "# 2.数据分析"
   ]
  },
  {
   "cell_type": "code",
   "execution_count": 78,
   "metadata": {},
   "outputs": [
    {
     "data": {
      "text/plain": [
       "9999999.0"
      ]
     },
     "execution_count": 78,
     "metadata": {},
     "output_type": "execute_result"
    }
   ],
   "source": [
    "train_df['房屋租金'].max()"
   ]
  },
  {
   "cell_type": "code",
   "execution_count": 79,
   "metadata": {},
   "outputs": [
    {
     "data": {
      "text/html": [
       "<div>\n",
       "<style scoped>\n",
       "    .dataframe tbody tr th:only-of-type {\n",
       "        vertical-align: middle;\n",
       "    }\n",
       "\n",
       "    .dataframe tbody tr th {\n",
       "        vertical-align: top;\n",
       "    }\n",
       "\n",
       "    .dataframe thead th {\n",
       "        text-align: right;\n",
       "    }\n",
       "</style>\n",
       "<table border=\"1\" class=\"dataframe\">\n",
       "  <thead>\n",
       "    <tr style=\"text-align: right;\">\n",
       "      <th></th>\n",
       "      <th>ID</th>\n",
       "      <th>区域1</th>\n",
       "      <th>区域2</th>\n",
       "      <th>区域3</th>\n",
       "      <th>街道</th>\n",
       "      <th>上传日期</th>\n",
       "      <th>房屋租金</th>\n",
       "      <th>服务费</th>\n",
       "      <th>供暖费用</th>\n",
       "      <th>电力基础价格</th>\n",
       "      <th>...</th>\n",
       "      <th>邮政编码</th>\n",
       "      <th>房间数量</th>\n",
       "      <th>所处楼层</th>\n",
       "      <th>建筑楼层</th>\n",
       "      <th>有花园</th>\n",
       "      <th>最后翻新年份</th>\n",
       "      <th>是新建筑</th>\n",
       "      <th>建成年份</th>\n",
       "      <th>价格趋势</th>\n",
       "      <th>上传图片数</th>\n",
       "    </tr>\n",
       "  </thead>\n",
       "  <tbody>\n",
       "    <tr>\n",
       "      <th>1575</th>\n",
       "      <td>1575</td>\n",
       "      <td>9</td>\n",
       "      <td>16</td>\n",
       "      <td>268</td>\n",
       "      <td>1</td>\n",
       "      <td>Feb20</td>\n",
       "      <td>5500.0</td>\n",
       "      <td>500.0</td>\n",
       "      <td>NaN</td>\n",
       "      <td>NaN</td>\n",
       "      <td>...</td>\n",
       "      <td>947</td>\n",
       "      <td>4.0</td>\n",
       "      <td>NaN</td>\n",
       "      <td>2.0</td>\n",
       "      <td>False</td>\n",
       "      <td>NaN</td>\n",
       "      <td>False</td>\n",
       "      <td>NaN</td>\n",
       "      <td>4.58</td>\n",
       "      <td>13</td>\n",
       "    </tr>\n",
       "  </tbody>\n",
       "</table>\n",
       "<p>1 rows × 31 columns</p>\n",
       "</div>"
      ],
      "text/plain": [
       "        ID  区域1  区域2  区域3  街道   上传日期    房屋租金    服务费  供暖费用  电力基础价格  ...  邮政编码  \\\n",
       "1575  1575    9   16  268   1  Feb20  5500.0  500.0   NaN     NaN  ...   947   \n",
       "\n",
       "      房间数量  所处楼层  建筑楼层    有花园  最后翻新年份   是新建筑 建成年份  价格趋势  上传图片数  \n",
       "1575   4.0   NaN   2.0  False     NaN  False  NaN  4.58     13  \n",
       "\n",
       "[1 rows x 31 columns]"
      ]
     },
     "execution_count": 79,
     "metadata": {},
     "output_type": "execute_result"
    }
   ],
   "source": [
    "train_df[train_df['房屋租金'] > train_df['房屋租金'].quantile(0.999)].head(1)"
   ]
  },
  {
   "cell_type": "code",
   "execution_count": 80,
   "metadata": {},
   "outputs": [
    {
     "data": {
      "text/plain": [
       "4950.0"
      ]
     },
     "execution_count": 80,
     "metadata": {},
     "output_type": "execute_result"
    }
   ],
   "source": [
    "train_df['房屋租金'].quantile(0.999)"
   ]
  },
  {
   "cell_type": "code",
   "execution_count": 81,
   "metadata": {},
   "outputs": [
    {
     "data": {
      "text/html": [
       "<div>\n",
       "<style scoped>\n",
       "    .dataframe tbody tr th:only-of-type {\n",
       "        vertical-align: middle;\n",
       "    }\n",
       "\n",
       "    .dataframe tbody tr th {\n",
       "        vertical-align: top;\n",
       "    }\n",
       "\n",
       "    .dataframe thead th {\n",
       "        text-align: right;\n",
       "    }\n",
       "</style>\n",
       "<table border=\"1\" class=\"dataframe\">\n",
       "  <thead>\n",
       "    <tr style=\"text-align: right;\">\n",
       "      <th></th>\n",
       "      <th>ID</th>\n",
       "      <th>区域1</th>\n",
       "      <th>区域2</th>\n",
       "      <th>区域3</th>\n",
       "      <th>街道</th>\n",
       "      <th>上传日期</th>\n",
       "      <th>房屋租金</th>\n",
       "      <th>服务费</th>\n",
       "      <th>供暖费用</th>\n",
       "      <th>电力基础价格</th>\n",
       "      <th>...</th>\n",
       "      <th>邮政编码</th>\n",
       "      <th>房间数量</th>\n",
       "      <th>所处楼层</th>\n",
       "      <th>建筑楼层</th>\n",
       "      <th>有花园</th>\n",
       "      <th>最后翻新年份</th>\n",
       "      <th>是新建筑</th>\n",
       "      <th>建成年份</th>\n",
       "      <th>价格趋势</th>\n",
       "      <th>上传图片数</th>\n",
       "    </tr>\n",
       "  </thead>\n",
       "  <tbody>\n",
       "    <tr>\n",
       "      <th>1575</th>\n",
       "      <td>1575</td>\n",
       "      <td>9</td>\n",
       "      <td>16</td>\n",
       "      <td>268</td>\n",
       "      <td>1</td>\n",
       "      <td>Feb20</td>\n",
       "      <td>5500.00</td>\n",
       "      <td>500.00</td>\n",
       "      <td>NaN</td>\n",
       "      <td>NaN</td>\n",
       "      <td>...</td>\n",
       "      <td>947</td>\n",
       "      <td>4.0</td>\n",
       "      <td>NaN</td>\n",
       "      <td>2.0</td>\n",
       "      <td>False</td>\n",
       "      <td>NaN</td>\n",
       "      <td>False</td>\n",
       "      <td>NaN</td>\n",
       "      <td>4.58</td>\n",
       "      <td>13</td>\n",
       "    </tr>\n",
       "    <tr>\n",
       "      <th>2070</th>\n",
       "      <td>2070</td>\n",
       "      <td>2</td>\n",
       "      <td>29</td>\n",
       "      <td>403</td>\n",
       "      <td>1</td>\n",
       "      <td>Sep18</td>\n",
       "      <td>10700.00</td>\n",
       "      <td>2200.00</td>\n",
       "      <td>NaN</td>\n",
       "      <td>90.76</td>\n",
       "      <td>...</td>\n",
       "      <td>419</td>\n",
       "      <td>4.0</td>\n",
       "      <td>4.0</td>\n",
       "      <td>5.0</td>\n",
       "      <td>False</td>\n",
       "      <td>2010.0</td>\n",
       "      <td>False</td>\n",
       "      <td>2008.0</td>\n",
       "      <td>7.43</td>\n",
       "      <td>5</td>\n",
       "    </tr>\n",
       "    <tr>\n",
       "      <th>4002</th>\n",
       "      <td>4002</td>\n",
       "      <td>9</td>\n",
       "      <td>16</td>\n",
       "      <td>268</td>\n",
       "      <td>1</td>\n",
       "      <td>Feb20</td>\n",
       "      <td>5500.00</td>\n",
       "      <td>500.00</td>\n",
       "      <td>NaN</td>\n",
       "      <td>NaN</td>\n",
       "      <td>...</td>\n",
       "      <td>947</td>\n",
       "      <td>4.0</td>\n",
       "      <td>NaN</td>\n",
       "      <td>2.0</td>\n",
       "      <td>True</td>\n",
       "      <td>2019.0</td>\n",
       "      <td>False</td>\n",
       "      <td>1870.0</td>\n",
       "      <td>4.58</td>\n",
       "      <td>17</td>\n",
       "    </tr>\n",
       "    <tr>\n",
       "      <th>4170</th>\n",
       "      <td>4170</td>\n",
       "      <td>2</td>\n",
       "      <td>29</td>\n",
       "      <td>31</td>\n",
       "      <td>1</td>\n",
       "      <td>May19</td>\n",
       "      <td>5980.00</td>\n",
       "      <td>660.00</td>\n",
       "      <td>NaN</td>\n",
       "      <td>NaN</td>\n",
       "      <td>...</td>\n",
       "      <td>31</td>\n",
       "      <td>5.0</td>\n",
       "      <td>NaN</td>\n",
       "      <td>6.0</td>\n",
       "      <td>False</td>\n",
       "      <td>NaN</td>\n",
       "      <td>False</td>\n",
       "      <td>2016.0</td>\n",
       "      <td>7.04</td>\n",
       "      <td>11</td>\n",
       "    </tr>\n",
       "    <tr>\n",
       "      <th>4482</th>\n",
       "      <td>4482</td>\n",
       "      <td>2</td>\n",
       "      <td>242</td>\n",
       "      <td>1197</td>\n",
       "      <td>1</td>\n",
       "      <td>Sep18</td>\n",
       "      <td>4961.00</td>\n",
       "      <td>825.00</td>\n",
       "      <td>NaN</td>\n",
       "      <td>71.43</td>\n",
       "      <td>...</td>\n",
       "      <td>1260</td>\n",
       "      <td>5.0</td>\n",
       "      <td>NaN</td>\n",
       "      <td>NaN</td>\n",
       "      <td>True</td>\n",
       "      <td>NaN</td>\n",
       "      <td>False</td>\n",
       "      <td>2001.0</td>\n",
       "      <td>4.80</td>\n",
       "      <td>25</td>\n",
       "    </tr>\n",
       "    <tr>\n",
       "      <th>...</th>\n",
       "      <td>...</td>\n",
       "      <td>...</td>\n",
       "      <td>...</td>\n",
       "      <td>...</td>\n",
       "      <td>...</td>\n",
       "      <td>...</td>\n",
       "      <td>...</td>\n",
       "      <td>...</td>\n",
       "      <td>...</td>\n",
       "      <td>...</td>\n",
       "      <td>...</td>\n",
       "      <td>...</td>\n",
       "      <td>...</td>\n",
       "      <td>...</td>\n",
       "      <td>...</td>\n",
       "      <td>...</td>\n",
       "      <td>...</td>\n",
       "      <td>...</td>\n",
       "      <td>...</td>\n",
       "      <td>...</td>\n",
       "      <td>...</td>\n",
       "    </tr>\n",
       "    <tr>\n",
       "      <th>194777</th>\n",
       "      <td>194777</td>\n",
       "      <td>8</td>\n",
       "      <td>11</td>\n",
       "      <td>828</td>\n",
       "      <td>1</td>\n",
       "      <td>Oct19</td>\n",
       "      <td>5402.09</td>\n",
       "      <td>625.00</td>\n",
       "      <td>NaN</td>\n",
       "      <td>NaN</td>\n",
       "      <td>...</td>\n",
       "      <td>862</td>\n",
       "      <td>4.5</td>\n",
       "      <td>3.0</td>\n",
       "      <td>3.0</td>\n",
       "      <td>True</td>\n",
       "      <td>NaN</td>\n",
       "      <td>False</td>\n",
       "      <td>NaN</td>\n",
       "      <td>4.17</td>\n",
       "      <td>16</td>\n",
       "    </tr>\n",
       "    <tr>\n",
       "      <th>194916</th>\n",
       "      <td>194916</td>\n",
       "      <td>9</td>\n",
       "      <td>16</td>\n",
       "      <td>1677</td>\n",
       "      <td>1</td>\n",
       "      <td>May19</td>\n",
       "      <td>6250.00</td>\n",
       "      <td>600.00</td>\n",
       "      <td>NaN</td>\n",
       "      <td>NaN</td>\n",
       "      <td>...</td>\n",
       "      <td>277</td>\n",
       "      <td>6.5</td>\n",
       "      <td>3.0</td>\n",
       "      <td>NaN</td>\n",
       "      <td>False</td>\n",
       "      <td>NaN</td>\n",
       "      <td>False</td>\n",
       "      <td>NaN</td>\n",
       "      <td>5.87</td>\n",
       "      <td>14</td>\n",
       "    </tr>\n",
       "    <tr>\n",
       "      <th>195239</th>\n",
       "      <td>195239</td>\n",
       "      <td>9</td>\n",
       "      <td>16</td>\n",
       "      <td>262</td>\n",
       "      <td>43577</td>\n",
       "      <td>May19</td>\n",
       "      <td>5950.00</td>\n",
       "      <td>340.00</td>\n",
       "      <td>340.00</td>\n",
       "      <td>NaN</td>\n",
       "      <td>...</td>\n",
       "      <td>270</td>\n",
       "      <td>5.5</td>\n",
       "      <td>2.0</td>\n",
       "      <td>4.0</td>\n",
       "      <td>False</td>\n",
       "      <td>2018.0</td>\n",
       "      <td>False</td>\n",
       "      <td>1914.0</td>\n",
       "      <td>5.30</td>\n",
       "      <td>12</td>\n",
       "    </tr>\n",
       "    <tr>\n",
       "      <th>195554</th>\n",
       "      <td>195554</td>\n",
       "      <td>2</td>\n",
       "      <td>29</td>\n",
       "      <td>519</td>\n",
       "      <td>1</td>\n",
       "      <td>May19</td>\n",
       "      <td>5700.00</td>\n",
       "      <td>800.00</td>\n",
       "      <td>NaN</td>\n",
       "      <td>NaN</td>\n",
       "      <td>...</td>\n",
       "      <td>1791</td>\n",
       "      <td>6.0</td>\n",
       "      <td>NaN</td>\n",
       "      <td>3.0</td>\n",
       "      <td>False</td>\n",
       "      <td>2018.0</td>\n",
       "      <td>False</td>\n",
       "      <td>2009.0</td>\n",
       "      <td>6.96</td>\n",
       "      <td>52</td>\n",
       "    </tr>\n",
       "    <tr>\n",
       "      <th>199851</th>\n",
       "      <td>199851</td>\n",
       "      <td>8</td>\n",
       "      <td>11</td>\n",
       "      <td>205</td>\n",
       "      <td>1208</td>\n",
       "      <td>Sep18</td>\n",
       "      <td>4951.44</td>\n",
       "      <td>209.48</td>\n",
       "      <td>76.18</td>\n",
       "      <td>90.76</td>\n",
       "      <td>...</td>\n",
       "      <td>208</td>\n",
       "      <td>5.5</td>\n",
       "      <td>3.0</td>\n",
       "      <td>3.0</td>\n",
       "      <td>True</td>\n",
       "      <td>NaN</td>\n",
       "      <td>True</td>\n",
       "      <td>2018.0</td>\n",
       "      <td>8.15</td>\n",
       "      <td>3</td>\n",
       "    </tr>\n",
       "  </tbody>\n",
       "</table>\n",
       "<p>192 rows × 31 columns</p>\n",
       "</div>"
      ],
      "text/plain": [
       "            ID  区域1  区域2   区域3     街道   上传日期      房屋租金      服务费    供暖费用  \\\n",
       "1575      1575    9   16   268      1  Feb20   5500.00   500.00     NaN   \n",
       "2070      2070    2   29   403      1  Sep18  10700.00  2200.00     NaN   \n",
       "4002      4002    9   16   268      1  Feb20   5500.00   500.00     NaN   \n",
       "4170      4170    2   29    31      1  May19   5980.00   660.00     NaN   \n",
       "4482      4482    2  242  1197      1  Sep18   4961.00   825.00     NaN   \n",
       "...        ...  ...  ...   ...    ...    ...       ...      ...     ...   \n",
       "194777  194777    8   11   828      1  Oct19   5402.09   625.00     NaN   \n",
       "194916  194916    9   16  1677      1  May19   6250.00   600.00     NaN   \n",
       "195239  195239    9   16   262  43577  May19   5950.00   340.00  340.00   \n",
       "195554  195554    2   29   519      1  May19   5700.00   800.00     NaN   \n",
       "199851  199851    8   11   205   1208  Sep18   4951.44   209.48   76.18   \n",
       "\n",
       "        电力基础价格  ...  邮政编码  房间数量  所处楼层  建筑楼层    有花园  最后翻新年份   是新建筑    建成年份  \\\n",
       "1575       NaN  ...   947   4.0   NaN   2.0  False     NaN  False     NaN   \n",
       "2070     90.76  ...   419   4.0   4.0   5.0  False  2010.0  False  2008.0   \n",
       "4002       NaN  ...   947   4.0   NaN   2.0   True  2019.0  False  1870.0   \n",
       "4170       NaN  ...    31   5.0   NaN   6.0  False     NaN  False  2016.0   \n",
       "4482     71.43  ...  1260   5.0   NaN   NaN   True     NaN  False  2001.0   \n",
       "...        ...  ...   ...   ...   ...   ...    ...     ...    ...     ...   \n",
       "194777     NaN  ...   862   4.5   3.0   3.0   True     NaN  False     NaN   \n",
       "194916     NaN  ...   277   6.5   3.0   NaN  False     NaN  False     NaN   \n",
       "195239     NaN  ...   270   5.5   2.0   4.0  False  2018.0  False  1914.0   \n",
       "195554     NaN  ...  1791   6.0   NaN   3.0  False  2018.0  False  2009.0   \n",
       "199851   90.76  ...   208   5.5   3.0   3.0   True     NaN   True  2018.0   \n",
       "\n",
       "        价格趋势  上传图片数  \n",
       "1575    4.58     13  \n",
       "2070    7.43      5  \n",
       "4002    4.58     17  \n",
       "4170    7.04     11  \n",
       "4482    4.80     25  \n",
       "...      ...    ...  \n",
       "194777  4.17     16  \n",
       "194916  5.87     14  \n",
       "195239  5.30     12  \n",
       "195554  6.96     52  \n",
       "199851  8.15      3  \n",
       "\n",
       "[192 rows x 31 columns]"
      ]
     },
     "execution_count": 81,
     "metadata": {},
     "output_type": "execute_result"
    }
   ],
   "source": [
    "train_df[train_df['房屋租金'] > train_df['房屋租金'].quantile(0.999)]"
   ]
  },
  {
   "cell_type": "markdown",
   "metadata": {},
   "source": [
    "## 2.1 缺失值分析"
   ]
  },
  {
   "cell_type": "code",
   "execution_count": 82,
   "metadata": {},
   "outputs": [
    {
     "data": {
      "text/plain": [
       "ID        0.000000\n",
       "区域1       0.000000\n",
       "区域2       0.000000\n",
       "区域3       0.000000\n",
       "街道        0.000000\n",
       "上传日期      0.000000\n",
       "房屋租金      0.000000\n",
       "服务费       0.025610\n",
       "供暖费用      0.682465\n",
       "电力基础价格    0.825970\n",
       "有阳台       0.000000\n",
       "没有停车位     0.654085\n",
       "有厨房       0.000000\n",
       "有地窖       0.000000\n",
       "居住面积      0.000000\n",
       "房屋状况      0.000015\n",
       "内饰质量      0.007260\n",
       "可带宠物      0.426480\n",
       "加热类型      0.000595\n",
       "有电梯       0.000000\n",
       "房屋类型      0.021005\n",
       "邮政编码      0.000000\n",
       "房间数量      0.000000\n",
       "所处楼层      0.191320\n",
       "建筑楼层      0.363355\n",
       "有花园       0.000000\n",
       "最后翻新年份    0.699170\n",
       "是新建筑      0.000000\n",
       "建成年份      0.212390\n",
       "价格趋势      0.006605\n",
       "上传图片数     0.000000\n",
       "dtype: float64"
      ]
     },
     "execution_count": 82,
     "metadata": {},
     "output_type": "execute_result"
    }
   ],
   "source": [
    "train_df.isnull().mean(0)"
   ]
  },
  {
   "cell_type": "markdown",
   "metadata": {},
   "source": [
    "## 2.2 相关性分析"
   ]
  },
  {
   "cell_type": "code",
   "execution_count": 83,
   "metadata": {},
   "outputs": [
    {
     "data": {
      "text/plain": [
       "ID       -0.000530\n",
       "区域1      -0.002137\n",
       "区域2       0.002115\n",
       "区域3       0.003195\n",
       "街道        0.002761\n",
       "房屋租金      1.000000\n",
       "服务费       0.627498\n",
       "供暖费用      0.114817\n",
       "电力基础价格    0.003633\n",
       "有阳台       0.002828\n",
       "没有停车位     0.004404\n",
       "有厨房       0.004713\n",
       "有地窖      -0.002857\n",
       "居住面积      0.013557\n",
       "房屋状况     -0.001372\n",
       "内饰质量     -0.001297\n",
       "加热类型      0.001421\n",
       "有电梯       0.005293\n",
       "房屋类型      0.000681\n",
       "邮政编码      0.009896\n",
       "房间数量      0.003324\n",
       "所处楼层      0.011161\n",
       "建筑楼层      0.008226\n",
       "有花园      -0.000480\n",
       "最后翻新年份    0.153241\n",
       "是新建筑      0.005062\n",
       "建成年份      0.143588\n",
       "价格趋势      0.010815\n",
       "上传图片数     0.003238\n",
       "Name: 房屋租金, dtype: float64"
      ]
     },
     "execution_count": 83,
     "metadata": {},
     "output_type": "execute_result"
    }
   ],
   "source": [
    "train_df.corr()['房屋租金']"
   ]
  },
  {
   "cell_type": "markdown",
   "metadata": {},
   "source": [
    "## 2.3 探索性分析"
   ]
  },
  {
   "cell_type": "code",
   "execution_count": 84,
   "metadata": {},
   "outputs": [
    {
     "data": {
      "text/plain": [
       "区域1\n",
       "0      602.096708\n",
       "1     1053.480464\n",
       "2     1020.160730\n",
       "3      516.632730\n",
       "4     9812.108292\n",
       "5      439.607234\n",
       "6      600.737776\n",
       "7      684.906067\n",
       "8     1167.669803\n",
       "9      973.537653\n",
       "10     386.847067\n",
       "11     620.689502\n",
       "12     369.322998\n",
       "13     646.775330\n",
       "14    1195.063434\n",
       "15     422.101682\n",
       "Name: 房屋租金, dtype: float64"
      ]
     },
     "execution_count": 84,
     "metadata": {},
     "output_type": "execute_result"
    }
   ],
   "source": [
    "ss = train_df.groupby(['区域1'])['房屋租金'].mean()\n",
    "ss"
   ]
  },
  {
   "cell_type": "code",
   "execution_count": 85,
   "metadata": {},
   "outputs": [
    {
     "data": {
      "text/plain": [
       "<matplotlib.axes._subplots.AxesSubplot at 0x201d1b35640>"
      ]
     },
     "execution_count": 85,
     "metadata": {},
     "output_type": "execute_result"
    },
    {
     "name": "stderr",
     "output_type": "stream",
     "text": [
      "d:\\Users\\96212\\anaconda3\\envs\\ML\\lib\\site-packages\\matplotlib\\backends\\backend_agg.py:211: RuntimeWarning: Glyph 21306 missing from current font.\n",
      "  font.set_text(s, 0.0, flags=flags)\n",
      "d:\\Users\\96212\\anaconda3\\envs\\ML\\lib\\site-packages\\matplotlib\\backends\\backend_agg.py:211: RuntimeWarning: Glyph 22495 missing from current font.\n",
      "  font.set_text(s, 0.0, flags=flags)\n",
      "d:\\Users\\96212\\anaconda3\\envs\\ML\\lib\\site-packages\\matplotlib\\backends\\backend_agg.py:180: RuntimeWarning: Glyph 21306 missing from current font.\n",
      "  font.set_text(s, 0, flags=flags)\n",
      "d:\\Users\\96212\\anaconda3\\envs\\ML\\lib\\site-packages\\matplotlib\\backends\\backend_agg.py:180: RuntimeWarning: Glyph 22495 missing from current font.\n",
      "  font.set_text(s, 0, flags=flags)\n"
     ]
    },
    {
     "data": {
      "image/png": "[encoded data removed]",
      "text/plain": [
       "<Figure size 432x288 with 1 Axes>"
      ]
     },
     "metadata": {
      "needs_background": "light"
     },
     "output_type": "display_data"
    }
   ],
   "source": [
    "train_df.groupby(['区域1'])['房屋租金'].mean().plot(kind='bar')"
   ]
  },
  {
   "cell_type": "code",
   "execution_count": 86,
   "metadata": {},
   "outputs": [
    {
     "data": {
      "text/plain": [
       "有花园\n",
       "False    710.410061\n",
       "True     683.139171\n",
       "Name: 房屋租金, dtype: float64"
      ]
     },
     "execution_count": 86,
     "metadata": {},
     "output_type": "execute_result"
    }
   ],
   "source": [
    "train_df.groupby(['有花园'])['房屋租金'].mean()"
   ]
  },
  {
   "cell_type": "markdown",
   "metadata": {},
   "source": [
    "## 2.4 特征编码"
   ]
  },
  {
   "cell_type": "code",
   "execution_count": 87,
   "metadata": {},
   "outputs": [
    {
     "data": {
      "text/plain": [
       "ID          int64\n",
       "区域1         int64\n",
       "区域2         int64\n",
       "区域3         int64\n",
       "街道          int64\n",
       "上传日期       object\n",
       "房屋租金      float64\n",
       "服务费       float64\n",
       "供暖费用      float64\n",
       "电力基础价格    float64\n",
       "有阳台          bool\n",
       "没有停车位     float64\n",
       "有厨房          bool\n",
       "有地窖          bool\n",
       "居住面积      float64\n",
       "房屋状况      float64\n",
       "内饰质量      float64\n",
       "可带宠物       object\n",
       "加热类型      float64\n",
       "有电梯          bool\n",
       "房屋类型      float64\n",
       "邮政编码        int64\n",
       "房间数量      float64\n",
       "所处楼层      float64\n",
       "建筑楼层      float64\n",
       "有花园          bool\n",
       "最后翻新年份    float64\n",
       "是新建筑         bool\n",
       "建成年份      float64\n",
       "价格趋势      float64\n",
       "上传图片数       int64\n",
       "dtype: object"
      ]
     },
     "execution_count": 87,
     "metadata": {},
     "output_type": "execute_result"
    }
   ],
   "source": [
    "train_df.dtypes"
   ]
  },
  {
   "cell_type": "code",
   "execution_count": 88,
   "metadata": {},
   "outputs": [
    {
     "data": {
      "text/plain": [
       "0         Oct19\n",
       "1         Oct19\n",
       "2         Feb20\n",
       "3         May19\n",
       "4         Oct19\n",
       "          ...  \n",
       "199995    May19\n",
       "199996    Feb20\n",
       "199997    Sep18\n",
       "199998    Oct19\n",
       "199999    May19\n",
       "Name: 上传日期, Length: 200000, dtype: object"
      ]
     },
     "execution_count": 88,
     "metadata": {},
     "output_type": "execute_result"
    }
   ],
   "source": [
    "train_df['上传日期']"
   ]
  },
  {
   "cell_type": "code",
   "execution_count": 89,
   "metadata": {},
   "outputs": [],
   "source": [
    "train_df['上传日期_day'] = train_df['上传日期'].apply(lambda x: int(x[-2:]))\n",
    "test_df['上传日期_day'] = test_df['上传日期'].apply(lambda x: int(x[-2:]))"
   ]
  },
  {
   "cell_type": "code",
   "execution_count": 90,
   "metadata": {},
   "outputs": [],
   "source": [
    "train_df['上传日期_month'] = train_df['上传日期'].apply(lambda x: x[:2])\n",
    "test_df['上传日期_month'] = test_df['上传日期'].apply(lambda x: x[:2])"
   ]
  },
  {
   "cell_type": "code",
   "execution_count": 91,
   "metadata": {},
   "outputs": [],
   "source": [
    "train_df['上传日期_month'] = train_df['上传日期_month'].apply(lambda x: ['Fe', 'Ma', 'Oc', 'Se'].index(x))\n",
    "test_df['上传日期_month'] = test_df['上传日期_month'].apply(lambda x: ['Fe', 'Ma', 'Oc', 'Se'].index(x))"
   ]
  },
  {
   "cell_type": "code",
   "execution_count": 92,
   "metadata": {},
   "outputs": [],
   "source": [
    "train_df.drop(['上传日期'], axis=1, inplace=True)\n",
    "test_df.drop(['上传日期'], axis=1, inplace=True)"
   ]
  },
  {
   "cell_type": "code",
   "execution_count": 93,
   "metadata": {},
   "outputs": [],
   "source": [
    "train_df['可带宠物'] = train_df['可带宠物'].map({'negotiable': 0.5, 'no': 0, 'yea': 1})\n",
    "test_df['可带宠物'] = test_df['可带宠物'].map({'negotiable': 0.5, 'no': 0, 'yea': 1})"
   ]
  },
  {
   "cell_type": "code",
   "execution_count": 94,
   "metadata": {},
   "outputs": [
    {
     "data": {
      "text/html": [
       "<div>\n",
       "<style scoped>\n",
       "    .dataframe tbody tr th:only-of-type {\n",
       "        vertical-align: middle;\n",
       "    }\n",
       "\n",
       "    .dataframe tbody tr th {\n",
       "        vertical-align: top;\n",
       "    }\n",
       "\n",
       "    .dataframe thead th {\n",
       "        text-align: right;\n",
       "    }\n",
       "</style>\n",
       "<table border=\"1\" class=\"dataframe\">\n",
       "  <thead>\n",
       "    <tr style=\"text-align: right;\">\n",
       "      <th></th>\n",
       "      <th>ID</th>\n",
       "      <th>区域1</th>\n",
       "      <th>区域2</th>\n",
       "      <th>区域3</th>\n",
       "      <th>街道</th>\n",
       "      <th>房屋租金</th>\n",
       "      <th>服务费</th>\n",
       "      <th>供暖费用</th>\n",
       "      <th>电力基础价格</th>\n",
       "      <th>有阳台</th>\n",
       "      <th>...</th>\n",
       "      <th>所处楼层</th>\n",
       "      <th>建筑楼层</th>\n",
       "      <th>有花园</th>\n",
       "      <th>最后翻新年份</th>\n",
       "      <th>是新建筑</th>\n",
       "      <th>建成年份</th>\n",
       "      <th>价格趋势</th>\n",
       "      <th>上传图片数</th>\n",
       "      <th>上传日期_day</th>\n",
       "      <th>上传日期_month</th>\n",
       "    </tr>\n",
       "  </thead>\n",
       "  <tbody>\n",
       "    <tr>\n",
       "      <th>0</th>\n",
       "      <td>0</td>\n",
       "      <td>0</td>\n",
       "      <td>0</td>\n",
       "      <td>0</td>\n",
       "      <td>0</td>\n",
       "      <td>569.0</td>\n",
       "      <td>140.0</td>\n",
       "      <td>NaN</td>\n",
       "      <td>NaN</td>\n",
       "      <td>True</td>\n",
       "      <td>...</td>\n",
       "      <td>2.0</td>\n",
       "      <td>3.0</td>\n",
       "      <td>False</td>\n",
       "      <td>NaN</td>\n",
       "      <td>False</td>\n",
       "      <td>1971.0</td>\n",
       "      <td>4.62</td>\n",
       "      <td>6</td>\n",
       "      <td>19</td>\n",
       "      <td>2</td>\n",
       "    </tr>\n",
       "    <tr>\n",
       "      <th>1</th>\n",
       "      <td>1</td>\n",
       "      <td>1</td>\n",
       "      <td>1</td>\n",
       "      <td>1</td>\n",
       "      <td>1</td>\n",
       "      <td>560.0</td>\n",
       "      <td>120.0</td>\n",
       "      <td>NaN</td>\n",
       "      <td>NaN</td>\n",
       "      <td>False</td>\n",
       "      <td>...</td>\n",
       "      <td>NaN</td>\n",
       "      <td>NaN</td>\n",
       "      <td>False</td>\n",
       "      <td>NaN</td>\n",
       "      <td>False</td>\n",
       "      <td>1967.0</td>\n",
       "      <td>5.95</td>\n",
       "      <td>7</td>\n",
       "      <td>19</td>\n",
       "      <td>2</td>\n",
       "    </tr>\n",
       "    <tr>\n",
       "      <th>2</th>\n",
       "      <td>2</td>\n",
       "      <td>0</td>\n",
       "      <td>2</td>\n",
       "      <td>2</td>\n",
       "      <td>2</td>\n",
       "      <td>720.0</td>\n",
       "      <td>NaN</td>\n",
       "      <td>NaN</td>\n",
       "      <td>NaN</td>\n",
       "      <td>False</td>\n",
       "      <td>...</td>\n",
       "      <td>1.0</td>\n",
       "      <td>1.0</td>\n",
       "      <td>False</td>\n",
       "      <td>NaN</td>\n",
       "      <td>False</td>\n",
       "      <td>2018.0</td>\n",
       "      <td>3.83</td>\n",
       "      <td>10</td>\n",
       "      <td>20</td>\n",
       "      <td>0</td>\n",
       "    </tr>\n",
       "    <tr>\n",
       "      <th>3</th>\n",
       "      <td>3</td>\n",
       "      <td>2</td>\n",
       "      <td>3</td>\n",
       "      <td>3</td>\n",
       "      <td>3</td>\n",
       "      <td>695.0</td>\n",
       "      <td>153.0</td>\n",
       "      <td>NaN</td>\n",
       "      <td>NaN</td>\n",
       "      <td>True</td>\n",
       "      <td>...</td>\n",
       "      <td>2.0</td>\n",
       "      <td>3.0</td>\n",
       "      <td>False</td>\n",
       "      <td>NaN</td>\n",
       "      <td>False</td>\n",
       "      <td>1972.0</td>\n",
       "      <td>5.24</td>\n",
       "      <td>7</td>\n",
       "      <td>19</td>\n",
       "      <td>1</td>\n",
       "    </tr>\n",
       "    <tr>\n",
       "      <th>4</th>\n",
       "      <td>4</td>\n",
       "      <td>3</td>\n",
       "      <td>4</td>\n",
       "      <td>4</td>\n",
       "      <td>1</td>\n",
       "      <td>1200.0</td>\n",
       "      <td>350.0</td>\n",
       "      <td>NaN</td>\n",
       "      <td>NaN</td>\n",
       "      <td>True</td>\n",
       "      <td>...</td>\n",
       "      <td>2.0</td>\n",
       "      <td>2.0</td>\n",
       "      <td>True</td>\n",
       "      <td>NaN</td>\n",
       "      <td>False</td>\n",
       "      <td>NaN</td>\n",
       "      <td>5.63</td>\n",
       "      <td>14</td>\n",
       "      <td>19</td>\n",
       "      <td>2</td>\n",
       "    </tr>\n",
       "    <tr>\n",
       "      <th>...</th>\n",
       "      <td>...</td>\n",
       "      <td>...</td>\n",
       "      <td>...</td>\n",
       "      <td>...</td>\n",
       "      <td>...</td>\n",
       "      <td>...</td>\n",
       "      <td>...</td>\n",
       "      <td>...</td>\n",
       "      <td>...</td>\n",
       "      <td>...</td>\n",
       "      <td>...</td>\n",
       "      <td>...</td>\n",
       "      <td>...</td>\n",
       "      <td>...</td>\n",
       "      <td>...</td>\n",
       "      <td>...</td>\n",
       "      <td>...</td>\n",
       "      <td>...</td>\n",
       "      <td>...</td>\n",
       "      <td>...</td>\n",
       "      <td>...</td>\n",
       "    </tr>\n",
       "    <tr>\n",
       "      <th>199995</th>\n",
       "      <td>199995</td>\n",
       "      <td>6</td>\n",
       "      <td>71</td>\n",
       "      <td>4704</td>\n",
       "      <td>536</td>\n",
       "      <td>220.0</td>\n",
       "      <td>120.0</td>\n",
       "      <td>NaN</td>\n",
       "      <td>NaN</td>\n",
       "      <td>False</td>\n",
       "      <td>...</td>\n",
       "      <td>NaN</td>\n",
       "      <td>NaN</td>\n",
       "      <td>True</td>\n",
       "      <td>NaN</td>\n",
       "      <td>False</td>\n",
       "      <td>1710.0</td>\n",
       "      <td>2.05</td>\n",
       "      <td>1</td>\n",
       "      <td>19</td>\n",
       "      <td>1</td>\n",
       "    </tr>\n",
       "    <tr>\n",
       "      <th>199996</th>\n",
       "      <td>199996</td>\n",
       "      <td>8</td>\n",
       "      <td>11</td>\n",
       "      <td>157</td>\n",
       "      <td>2531</td>\n",
       "      <td>534.0</td>\n",
       "      <td>131.0</td>\n",
       "      <td>NaN</td>\n",
       "      <td>NaN</td>\n",
       "      <td>True</td>\n",
       "      <td>...</td>\n",
       "      <td>2.0</td>\n",
       "      <td>6.0</td>\n",
       "      <td>False</td>\n",
       "      <td>NaN</td>\n",
       "      <td>False</td>\n",
       "      <td>1969.0</td>\n",
       "      <td>8.36</td>\n",
       "      <td>7</td>\n",
       "      <td>20</td>\n",
       "      <td>0</td>\n",
       "    </tr>\n",
       "    <tr>\n",
       "      <th>199997</th>\n",
       "      <td>199997</td>\n",
       "      <td>5</td>\n",
       "      <td>9</td>\n",
       "      <td>596</td>\n",
       "      <td>11079</td>\n",
       "      <td>225.0</td>\n",
       "      <td>82.0</td>\n",
       "      <td>43.0</td>\n",
       "      <td>90.76</td>\n",
       "      <td>True</td>\n",
       "      <td>...</td>\n",
       "      <td>0.0</td>\n",
       "      <td>NaN</td>\n",
       "      <td>False</td>\n",
       "      <td>NaN</td>\n",
       "      <td>False</td>\n",
       "      <td>1980.0</td>\n",
       "      <td>5.66</td>\n",
       "      <td>10</td>\n",
       "      <td>18</td>\n",
       "      <td>3</td>\n",
       "    </tr>\n",
       "    <tr>\n",
       "      <th>199998</th>\n",
       "      <td>199998</td>\n",
       "      <td>1</td>\n",
       "      <td>262</td>\n",
       "      <td>5697</td>\n",
       "      <td>431</td>\n",
       "      <td>1142.0</td>\n",
       "      <td>228.0</td>\n",
       "      <td>NaN</td>\n",
       "      <td>NaN</td>\n",
       "      <td>True</td>\n",
       "      <td>...</td>\n",
       "      <td>2.0</td>\n",
       "      <td>3.0</td>\n",
       "      <td>False</td>\n",
       "      <td>2017.0</td>\n",
       "      <td>False</td>\n",
       "      <td>NaN</td>\n",
       "      <td>2.92</td>\n",
       "      <td>11</td>\n",
       "      <td>19</td>\n",
       "      <td>2</td>\n",
       "    </tr>\n",
       "    <tr>\n",
       "      <th>199999</th>\n",
       "      <td>199999</td>\n",
       "      <td>1</td>\n",
       "      <td>239</td>\n",
       "      <td>1715</td>\n",
       "      <td>1</td>\n",
       "      <td>480.0</td>\n",
       "      <td>150.0</td>\n",
       "      <td>NaN</td>\n",
       "      <td>NaN</td>\n",
       "      <td>False</td>\n",
       "      <td>...</td>\n",
       "      <td>NaN</td>\n",
       "      <td>NaN</td>\n",
       "      <td>False</td>\n",
       "      <td>NaN</td>\n",
       "      <td>False</td>\n",
       "      <td>1903.0</td>\n",
       "      <td>4.71</td>\n",
       "      <td>13</td>\n",
       "      <td>19</td>\n",
       "      <td>1</td>\n",
       "    </tr>\n",
       "  </tbody>\n",
       "</table>\n",
       "<p>200000 rows × 32 columns</p>\n",
       "</div>"
      ],
      "text/plain": [
       "            ID  区域1  区域2   区域3     街道    房屋租金    服务费  供暖费用  电力基础价格    有阳台  \\\n",
       "0            0    0    0     0      0   569.0  140.0   NaN     NaN   True   \n",
       "1            1    1    1     1      1   560.0  120.0   NaN     NaN  False   \n",
       "2            2    0    2     2      2   720.0    NaN   NaN     NaN  False   \n",
       "3            3    2    3     3      3   695.0  153.0   NaN     NaN   True   \n",
       "4            4    3    4     4      1  1200.0  350.0   NaN     NaN   True   \n",
       "...        ...  ...  ...   ...    ...     ...    ...   ...     ...    ...   \n",
       "199995  199995    6   71  4704    536   220.0  120.0   NaN     NaN  False   \n",
       "199996  199996    8   11   157   2531   534.0  131.0   NaN     NaN   True   \n",
       "199997  199997    5    9   596  11079   225.0   82.0  43.0   90.76   True   \n",
       "199998  199998    1  262  5697    431  1142.0  228.0   NaN     NaN   True   \n",
       "199999  199999    1  239  1715      1   480.0  150.0   NaN     NaN  False   \n",
       "\n",
       "        ...  所处楼层  建筑楼层    有花园  最后翻新年份   是新建筑    建成年份  价格趋势  上传图片数  上传日期_day  \\\n",
       "0       ...   2.0   3.0  False     NaN  False  1971.0  4.62      6        19   \n",
       "1       ...   NaN   NaN  False     NaN  False  1967.0  5.95      7        19   \n",
       "2       ...   1.0   1.0  False     NaN  False  2018.0  3.83     10        20   \n",
       "3       ...   2.0   3.0  False     NaN  False  1972.0  5.24      7        19   \n",
       "4       ...   2.0   2.0   True     NaN  False     NaN  5.63     14        19   \n",
       "...     ...   ...   ...    ...     ...    ...     ...   ...    ...       ...   \n",
       "199995  ...   NaN   NaN   True     NaN  False  1710.0  2.05      1        19   \n",
       "199996  ...   2.0   6.0  False     NaN  False  1969.0  8.36      7        20   \n",
       "199997  ...   0.0   NaN  False     NaN  False  1980.0  5.66     10        18   \n",
       "199998  ...   2.0   3.0  False  2017.0  False     NaN  2.92     11        19   \n",
       "199999  ...   NaN   NaN  False     NaN  False  1903.0  4.71     13        19   \n",
       "\n",
       "        上传日期_month  \n",
       "0                2  \n",
       "1                2  \n",
       "2                0  \n",
       "3                1  \n",
       "4                2  \n",
       "...            ...  \n",
       "199995           1  \n",
       "199996           0  \n",
       "199997           3  \n",
       "199998           2  \n",
       "199999           1  \n",
       "\n",
       "[200000 rows x 32 columns]"
      ]
     },
     "execution_count": 94,
     "metadata": {},
     "output_type": "execute_result"
    }
   ],
   "source": [
    "train_df"
   ]
  },
  {
   "cell_type": "code",
   "execution_count": 95,
   "metadata": {},
   "outputs": [
    {
     "data": {
      "text/plain": [
       "ID                 0\n",
       "区域1                0\n",
       "区域2                0\n",
       "区域3                0\n",
       "街道                 0\n",
       "房屋租金               0\n",
       "服务费             5122\n",
       "供暖费用          136493\n",
       "电力基础价格        165194\n",
       "有阳台                0\n",
       "没有停车位         130817\n",
       "有厨房                0\n",
       "有地窖                0\n",
       "居住面积               0\n",
       "房屋状况               3\n",
       "内饰质量            1452\n",
       "可带宠物           92921\n",
       "加热类型             119\n",
       "有电梯                0\n",
       "房屋类型            4201\n",
       "邮政编码               0\n",
       "房间数量               0\n",
       "所处楼层           38264\n",
       "建筑楼层           72671\n",
       "有花园                0\n",
       "最后翻新年份        139834\n",
       "是新建筑               0\n",
       "建成年份           42478\n",
       "价格趋势            1321\n",
       "上传图片数              0\n",
       "上传日期_day           0\n",
       "上传日期_month         0\n",
       "dtype: int64"
      ]
     },
     "execution_count": 95,
     "metadata": {},
     "output_type": "execute_result"
    }
   ],
   "source": [
    "train_df.isnull().sum()"
   ]
  },
  {
   "cell_type": "code",
   "execution_count": 96,
   "metadata": {},
   "outputs": [],
   "source": [
    "for col in train_df.select_dtypes(bool).columns:\n",
    "    train_df[col] = train_df[col].astype(int)\n",
    "    test_df[col] = test_df[col].astype(int)"
   ]
  },
  {
   "cell_type": "code",
   "execution_count": 97,
   "metadata": {},
   "outputs": [
    {
     "data": {
      "text/plain": [
       "ID              int64\n",
       "区域1             int64\n",
       "区域2             int64\n",
       "区域3             int64\n",
       "街道              int64\n",
       "房屋租金          float64\n",
       "服务费           float64\n",
       "供暖费用          float64\n",
       "电力基础价格        float64\n",
       "有阳台             int32\n",
       "没有停车位         float64\n",
       "有厨房             int32\n",
       "有地窖             int32\n",
       "居住面积          float64\n",
       "房屋状况          float64\n",
       "内饰质量          float64\n",
       "可带宠物          float64\n",
       "加热类型          float64\n",
       "有电梯             int32\n",
       "房屋类型          float64\n",
       "邮政编码            int64\n",
       "房间数量          float64\n",
       "所处楼层          float64\n",
       "建筑楼层          float64\n",
       "有花园             int32\n",
       "最后翻新年份        float64\n",
       "是新建筑            int32\n",
       "建成年份          float64\n",
       "价格趋势          float64\n",
       "上传图片数           int64\n",
       "上传日期_day        int64\n",
       "上传日期_month      int64\n",
       "dtype: object"
      ]
     },
     "execution_count": 97,
     "metadata": {},
     "output_type": "execute_result"
    }
   ],
   "source": [
    "train_df.dtypes"
   ]
  },
  {
   "cell_type": "code",
   "execution_count": 98,
   "metadata": {},
   "outputs": [],
   "source": [
    "# 数据平滑处理 -- log1p( ) 和 exmp1( )\n",
    "# 1.  数据预处理时首先可以对偏度比较大的数据用log1p函数进行转化，使其更加服从高斯分布，此步处理可能会使我们后续的分类结果得到一个好的结果。\n",
    "# 2. 平滑问题很容易处理掉，导致模型的结果达不到一定的标准，log1p( )能够避免复值得问题 — 复值指一个自变量对应多个因变量\n",
    "# log1p( ) 的使用就像是一个数据压缩到了一个区间，与数据的标准类似。其逆运算就是expm1的函\n",
    "# 由于使用的log1p（）对数据进行了压缩，最后需要将预测出的平滑数据进行一个还原，而还原过程就是log1p的逆运算expm1.\n",
    "# log1p = log（x+1）\n",
    "# 当x较大时直接计算，当x较小时用泰勒展开式计算\n",
    "\n",
    "train_df['房屋租金'] = np.log1p(train_df['房屋租金'])"
   ]
  },
  {
   "cell_type": "code",
   "execution_count": 99,
   "metadata": {},
   "outputs": [],
   "source": [
    "train_df['区域1_租金价格'] = train_df['区域1'].map(train_df.groupby(['区域1'])['房屋租金'].mean())\n",
    "test_df['区域1_租金价格'] = test_df['区域1'].map(train_df.groupby(['区域1'])['房屋租金'].mean())\n",
    "\n",
    "train_df['区域2_租金价格'] = train_df['区域2'].map(train_df.groupby(['区域2'])['房屋租金'].mean())\n",
    "test_df['区域2_租金价格'] = test_df['区域2'].map(train_df.groupby(['区域2'])['房屋租金'].mean())"
   ]
  },
  {
   "cell_type": "code",
   "execution_count": 100,
   "metadata": {},
   "outputs": [],
   "source": [
    "train_df['邮政编码_租金价格'] = train_df['邮政编码'].map(train_df.groupby(['邮政编码'])['房屋租金'].mean())\n",
    "test_df['邮政编码_租金价格'] = test_df['邮政编码'].map(train_df.groupby(['邮政编码'])['房屋租金'].mean())"
   ]
  },
  {
   "cell_type": "code",
   "execution_count": 101,
   "metadata": {},
   "outputs": [],
   "source": [
    "train_df['所处楼层_div'] = train_df['所处楼层'] / train_df['建筑楼层']\n",
    "test_df['所处楼层_div'] = test_df['所处楼层'] / test_df['建筑楼层']"
   ]
  },
  {
   "cell_type": "code",
   "execution_count": 102,
   "metadata": {},
   "outputs": [],
   "source": [
    "train_df['所处楼层_max'] = (train_df['所处楼层'] == train_df['建筑楼层']).astype(int)\n",
    "test_df['所处楼层_max'] = (test_df['所处楼层'] == test_df['建筑楼层']).astype(int)"
   ]
  },
  {
   "cell_type": "code",
   "execution_count": 103,
   "metadata": {},
   "outputs": [],
   "source": [
    "train_df['居住面积_mean'] = train_df['居住面积'] / train_df['房间数量']\n",
    "test_df['居住面积_mean'] = test_df['居住面积'] / test_df['房间数量']"
   ]
  },
  {
   "cell_type": "code",
   "execution_count": 104,
   "metadata": {},
   "outputs": [
    {
     "data": {
      "text/plain": [
       "0         24.980000\n",
       "1         32.000000\n",
       "2         35.000000\n",
       "3         30.610000\n",
       "4         28.222222\n",
       "            ...    \n",
       "199995    20.000000\n",
       "199996    29.660000\n",
       "199997    35.170000\n",
       "199998    38.033333\n",
       "199999    25.000000\n",
       "Name: 居住面积_mean, Length: 200000, dtype: float64"
      ]
     },
     "execution_count": 104,
     "metadata": {},
     "output_type": "execute_result"
    }
   ],
   "source": [
    "train_df['居住面积_mean']"
   ]
  },
  {
   "cell_type": "code",
   "execution_count": 105,
   "metadata": {},
   "outputs": [],
   "source": [
    "train_df['建成年龄'] = 2022 - train_df['建成年份']\n",
    "test_df['建成年龄'] = 2022 - test_df['建成年份']\n",
    "\n",
    "train_df['翻新年龄'] = 2022 - train_df['最后翻新年份']\n",
    "test_df['翻新年龄'] = 2022 - test_df['最后翻新年份']"
   ]
  },
  {
   "cell_type": "markdown",
   "metadata": {},
   "source": [
    "# 3.搭建模型"
   ]
  },
  {
   "cell_type": "code",
   "execution_count": 106,
   "metadata": {},
   "outputs": [],
   "source": [
    "for col in ['区域1', '区域2', '区域3', '街道', '房屋类型', '房屋状况', '可带宠物', '邮政编码']:\n",
    "    train_df[col] = train_df[col].astype('category')\n",
    "    test_df[col] = test_df[col].astype('category')"
   ]
  },
  {
   "cell_type": "code",
   "execution_count": 107,
   "metadata": {},
   "outputs": [
    {
     "data": {
      "text/plain": [
       "ID               int64\n",
       "区域1           category\n",
       "区域2           category\n",
       "区域3           category\n",
       "街道            category\n",
       "房屋租金           float64\n",
       "服务费            float64\n",
       "供暖费用           float64\n",
       "电力基础价格         float64\n",
       "有阳台              int32\n",
       "没有停车位          float64\n",
       "有厨房              int32\n",
       "有地窖              int32\n",
       "居住面积           float64\n",
       "房屋状况          category\n",
       "内饰质量           float64\n",
       "可带宠物          category\n",
       "加热类型           float64\n",
       "有电梯              int32\n",
       "房屋类型          category\n",
       "邮政编码          category\n",
       "房间数量           float64\n",
       "所处楼层           float64\n",
       "建筑楼层           float64\n",
       "有花园              int32\n",
       "最后翻新年份         float64\n",
       "是新建筑             int32\n",
       "建成年份           float64\n",
       "价格趋势           float64\n",
       "上传图片数            int64\n",
       "上传日期_day         int64\n",
       "上传日期_month       int64\n",
       "区域1_租金价格       float64\n",
       "区域2_租金价格       float64\n",
       "邮政编码_租金价格      float64\n",
       "所处楼层_div       float64\n",
       "所处楼层_max         int32\n",
       "居住面积_mean      float64\n",
       "建成年龄           float64\n",
       "翻新年龄           float64\n",
       "dtype: object"
      ]
     },
     "execution_count": 107,
     "metadata": {},
     "output_type": "execute_result"
    }
   ],
   "source": [
    "train_df.dtypes"
   ]
  },
  {
   "cell_type": "code",
   "execution_count": 108,
   "metadata": {},
   "outputs": [
    {
     "data": {
      "text/plain": [
       "ID                 0\n",
       "区域1                0\n",
       "区域2                0\n",
       "区域3                0\n",
       "街道                 0\n",
       "房屋租金               0\n",
       "服务费             5122\n",
       "供暖费用          136493\n",
       "电力基础价格        165194\n",
       "有阳台                0\n",
       "没有停车位         130817\n",
       "有厨房                0\n",
       "有地窖                0\n",
       "居住面积               0\n",
       "房屋状况               3\n",
       "内饰质量            1452\n",
       "可带宠物           92921\n",
       "加热类型             119\n",
       "有电梯                0\n",
       "房屋类型            4201\n",
       "邮政编码               0\n",
       "房间数量               0\n",
       "所处楼层           38264\n",
       "建筑楼层           72671\n",
       "有花园                0\n",
       "最后翻新年份        139834\n",
       "是新建筑               0\n",
       "建成年份           42478\n",
       "价格趋势            1321\n",
       "上传图片数              0\n",
       "上传日期_day           0\n",
       "上传日期_month         0\n",
       "区域1_租金价格           0\n",
       "区域2_租金价格           0\n",
       "邮政编码_租金价格          0\n",
       "所处楼层_div       81878\n",
       "所处楼层_max           0\n",
       "居住面积_mean          0\n",
       "建成年龄           42478\n",
       "翻新年龄          139834\n",
       "dtype: int64"
      ]
     },
     "execution_count": 108,
     "metadata": {},
     "output_type": "execute_result"
    }
   ],
   "source": [
    "train_df.isnull().sum()"
   ]
  },
  {
   "cell_type": "code",
   "execution_count": 109,
   "metadata": {},
   "outputs": [],
   "source": [
    "# 模型交叉验证\n",
    "def run_model_cv(model, kf, X_tr, y, X_te, cate_col=None):\n",
    "    train_pred = np.zeros( len(X_tr) )\n",
    "    test_pred = np.zeros( len(X_te)  )\n",
    "\n",
    "    cv_clf = []\n",
    "    for index,[tr_idx, val_idx] in enumerate(kf.split(X_tr, y)):\n",
    "        print(tr_idx)\n",
    "        print(val_idx)\n",
    "        print(train_pred[val_idx])\n",
    "        x_tr = X_tr.iloc[tr_idx]; \n",
    "        y_tr = y.iloc[tr_idx]\n",
    "\n",
    "        x_val = X_tr.iloc[val_idx]; \n",
    "        y_val = y.iloc[val_idx]\n",
    "\n",
    "        call_back = [\n",
    "            lgb.early_stopping(50),\n",
    "        ]\n",
    "        eval_set = [(x_val, y_val)]\n",
    "        model.fit(x_tr, y_tr, eval_set=eval_set, callbacks=call_back, verbose=-1,\n",
    "                 categorical_feature= 'auto', eval_metric= 'mae', )\n",
    "        #模型保存\n",
    "        joblib.dump(model, './data/model{index}.pkl'.format(index=index))\n",
    "\n",
    "        cv_clf.append(model)\n",
    "\n",
    "        train_pred[val_idx] = model.predict(x_val)\n",
    "        test_pred += model.predict(X_te)\n",
    "\n",
    "    test_pred /= kf.n_splits\n",
    "    \n",
    "    print(np.abs(np.exp(train_pred) - np.exp(y)).mean())\n",
    "    return train_pred, test_pred, cv_clf"
   ]
  },
  {
   "cell_type": "code",
   "execution_count": 115,
   "metadata": {},
   "outputs": [
    {
     "name": "stderr",
     "output_type": "stream",
     "text": [
      "d:\\Users\\96212\\anaconda3\\envs\\ML\\lib\\site-packages\\lightgbm\\sklearn.py:736: UserWarning: 'verbose' argument is deprecated and will be removed in a future release of LightGBM. Pass 'log_evaluation()' callback via 'callbacks' argument instead.\n",
      "  _log_warning(\"'verbose' argument is deprecated and will be removed in a future release of LightGBM. \"\n"
     ]
    },
    {
     "name": "stdout",
     "output_type": "stream",
     "text": [
      "[LightGBM] [Warning] verbosity is set=-1, verbose=-1 will be ignored. Current value: verbosity=-1\n"
     ]
    },
    {
     "name": "stderr",
     "output_type": "stream",
     "text": [
      "d:\\Users\\96212\\anaconda3\\envs\\ML\\lib\\site-packages\\lightgbm\\basic.py:1780: UserWarning: Overriding the parameters from Reference Dataset.\n",
      "  _log_warning('Overriding the parameters from Reference Dataset.')\n",
      "d:\\Users\\96212\\anaconda3\\envs\\ML\\lib\\site-packages\\lightgbm\\basic.py:1513: UserWarning: categorical_column in param dict is overridden.\n",
      "  _log_warning(f'{cat_alias} in param dict is overridden.')\n"
     ]
    },
    {
     "name": "stdout",
     "output_type": "stream",
     "text": [
      "Training until validation scores don't improve for 50 rounds\n",
      "Early stopping, best iteration is:\n",
      "[1431]\tvalid_0's l1: 0.112759\tvalid_0's l2: 0.0379499\n"
     ]
    },
    {
     "name": "stderr",
     "output_type": "stream",
     "text": [
      "d:\\Users\\96212\\anaconda3\\envs\\ML\\lib\\site-packages\\lightgbm\\sklearn.py:736: UserWarning: 'verbose' argument is deprecated and will be removed in a future release of LightGBM. Pass 'log_evaluation()' callback via 'callbacks' argument instead.\n",
      "  _log_warning(\"'verbose' argument is deprecated and will be removed in a future release of LightGBM. \"\n"
     ]
    },
    {
     "name": "stdout",
     "output_type": "stream",
     "text": [
      "[LightGBM] [Warning] verbosity is set=-1, verbose=-1 will be ignored. Current value: verbosity=-1\n"
     ]
    },
    {
     "name": "stderr",
     "output_type": "stream",
     "text": [
      "d:\\Users\\96212\\anaconda3\\envs\\ML\\lib\\site-packages\\lightgbm\\basic.py:1780: UserWarning: Overriding the parameters from Reference Dataset.\n",
      "  _log_warning('Overriding the parameters from Reference Dataset.')\n",
      "d:\\Users\\96212\\anaconda3\\envs\\ML\\lib\\site-packages\\lightgbm\\basic.py:1513: UserWarning: categorical_column in param dict is overridden.\n",
      "  _log_warning(f'{cat_alias} in param dict is overridden.')\n"
     ]
    },
    {
     "name": "stdout",
     "output_type": "stream",
     "text": [
      "Training until validation scores don't improve for 50 rounds\n",
      "Early stopping, best iteration is:\n",
      "[2071]\tvalid_0's l1: 0.111064\tvalid_0's l2: 0.0361345\n"
     ]
    },
    {
     "name": "stderr",
     "output_type": "stream",
     "text": [
      "d:\\Users\\96212\\anaconda3\\envs\\ML\\lib\\site-packages\\lightgbm\\sklearn.py:736: UserWarning: 'verbose' argument is deprecated and will be removed in a future release of LightGBM. Pass 'log_evaluation()' callback via 'callbacks' argument instead.\n",
      "  _log_warning(\"'verbose' argument is deprecated and will be removed in a future release of LightGBM. \"\n"
     ]
    },
    {
     "name": "stdout",
     "output_type": "stream",
     "text": [
      "[LightGBM] [Warning] verbosity is set=-1, verbose=-1 will be ignored. Current value: verbosity=-1\n"
     ]
    },
    {
     "name": "stderr",
     "output_type": "stream",
     "text": [
      "d:\\Users\\96212\\anaconda3\\envs\\ML\\lib\\site-packages\\lightgbm\\basic.py:1780: UserWarning: Overriding the parameters from Reference Dataset.\n",
      "  _log_warning('Overriding the parameters from Reference Dataset.')\n",
      "d:\\Users\\96212\\anaconda3\\envs\\ML\\lib\\site-packages\\lightgbm\\basic.py:1513: UserWarning: categorical_column in param dict is overridden.\n",
      "  _log_warning(f'{cat_alias} in param dict is overridden.')\n"
     ]
    },
    {
     "name": "stdout",
     "output_type": "stream",
     "text": [
      "Training until validation scores don't improve for 50 rounds\n",
      "Early stopping, best iteration is:\n",
      "[1769]\tvalid_0's l1: 0.109891\tvalid_0's l2: 0.034133\n"
     ]
    },
    {
     "name": "stderr",
     "output_type": "stream",
     "text": [
      "d:\\Users\\96212\\anaconda3\\envs\\ML\\lib\\site-packages\\lightgbm\\sklearn.py:736: UserWarning: 'verbose' argument is deprecated and will be removed in a future release of LightGBM. Pass 'log_evaluation()' callback via 'callbacks' argument instead.\n",
      "  _log_warning(\"'verbose' argument is deprecated and will be removed in a future release of LightGBM. \"\n"
     ]
    },
    {
     "name": "stdout",
     "output_type": "stream",
     "text": [
      "[LightGBM] [Warning] verbosity is set=-1, verbose=-1 will be ignored. Current value: verbosity=-1\n"
     ]
    },
    {
     "name": "stderr",
     "output_type": "stream",
     "text": [
      "d:\\Users\\96212\\anaconda3\\envs\\ML\\lib\\site-packages\\lightgbm\\basic.py:1780: UserWarning: Overriding the parameters from Reference Dataset.\n",
      "  _log_warning('Overriding the parameters from Reference Dataset.')\n",
      "d:\\Users\\96212\\anaconda3\\envs\\ML\\lib\\site-packages\\lightgbm\\basic.py:1513: UserWarning: categorical_column in param dict is overridden.\n",
      "  _log_warning(f'{cat_alias} in param dict is overridden.')\n"
     ]
    },
    {
     "name": "stdout",
     "output_type": "stream",
     "text": [
      "Training until validation scores don't improve for 50 rounds\n",
      "Early stopping, best iteration is:\n",
      "[1616]\tvalid_0's l1: 0.110819\tvalid_0's l2: 0.0394622\n"
     ]
    },
    {
     "name": "stderr",
     "output_type": "stream",
     "text": [
      "d:\\Users\\96212\\anaconda3\\envs\\ML\\lib\\site-packages\\lightgbm\\sklearn.py:736: UserWarning: 'verbose' argument is deprecated and will be removed in a future release of LightGBM. Pass 'log_evaluation()' callback via 'callbacks' argument instead.\n",
      "  _log_warning(\"'verbose' argument is deprecated and will be removed in a future release of LightGBM. \"\n"
     ]
    },
    {
     "name": "stdout",
     "output_type": "stream",
     "text": [
      "[LightGBM] [Warning] verbosity is set=-1, verbose=-1 will be ignored. Current value: verbosity=-1\n"
     ]
    },
    {
     "name": "stderr",
     "output_type": "stream",
     "text": [
      "d:\\Users\\96212\\anaconda3\\envs\\ML\\lib\\site-packages\\lightgbm\\basic.py:1780: UserWarning: Overriding the parameters from Reference Dataset.\n",
      "  _log_warning('Overriding the parameters from Reference Dataset.')\n",
      "d:\\Users\\96212\\anaconda3\\envs\\ML\\lib\\site-packages\\lightgbm\\basic.py:1513: UserWarning: categorical_column in param dict is overridden.\n",
      "  _log_warning(f'{cat_alias} in param dict is overridden.')\n"
     ]
    },
    {
     "name": "stdout",
     "output_type": "stream",
     "text": [
      "Training until validation scores don't improve for 50 rounds\n",
      "Early stopping, best iteration is:\n",
      "[1221]\tvalid_0's l1: 0.113313\tvalid_0's l2: 0.0424208\n",
      "132.5072686996236\n",
      "[6.64369239 6.42075371 6.58886223 ... 7.25611834 7.17994624 5.50914565]\n"
     ]
    }
   ],
   "source": [
    "from sklearn.model_selection import KFold\n",
    "import lightgbm as lgb\n",
    "\n",
    "test_pred_tta = np.zeros( len(test_df)  )\n",
    "for _ in range(1):\n",
    "    clf = lgb.LGBMRegressor(\n",
    "        max_depth=7, \n",
    "        n_estimators=4000, \n",
    "        n_jobs=-1, \n",
    "        verbose=-1,\n",
    "        verbosity=-1,\n",
    "        learning_rate=0.03,\n",
    "        random_state=np.random.randint(100)\n",
    "    )\n",
    "\n",
    "    train_pred, test_pred, cv_clf = run_model_cv(\n",
    "        clf, KFold(n_splits=5, random_state=np.random.randint(100), shuffle=True),\n",
    "        train_df.drop(['ID', '房屋租金'], axis=1),\n",
    "        train_df['房屋租金'],\n",
    "        test_df.drop(['ID'], axis=1),\n",
    "    )\n",
    "\n",
    "    print(test_pred)\n",
    "    \n",
    "    test_pred_tta += test_pred\n",
    "\n",
    "# 133.28688613802427，95.7\n",
    "# 132.1 75.0"
   ]
  },
  {
   "cell_type": "code",
   "execution_count": 111,
   "metadata": {},
   "outputs": [],
   "source": [
    "# log1p 和 expm1 互为逆运算\n",
    "# pd.DataFrame({\n",
    "#     'ID': test_df['ID'],\n",
    "#     '房屋租金': np.exp(test_pred_tta / 1).astype(int)\n",
    "# }).to_csv('data/official-baseline.csv', index=None)"
   ]
  },
  {
   "cell_type": "markdown",
   "metadata": {},
   "source": [
    "# 4.模型加载"
   ]
  },
  {
   "cell_type": "code",
   "execution_count": 112,
   "metadata": {},
   "outputs": [
    {
     "data": {
      "text/html": [
       "<style>#sk-container-id-1 {color: black;background-color: white;}#sk-container-id-1 pre{padding: 0;}#sk-container-id-1 div.sk-toggleable {background-color: white;}#sk-container-id-1 label.sk-toggleable__label {cursor: pointer;display: block;width: 100%;margin-bottom: 0;padding: 0.3em;box-sizing: border-box;text-align: center;}#sk-container-id-1 label.sk-toggleable__label-arrow:before {content: \"▸\";float: left;margin-right: 0.25em;color: #696969;}#sk-container-id-1 label.sk-toggleable__label-arrow:hover:before {color: black;}#sk-container-id-1 div.sk-estimator:hover label.sk-toggleable__label-arrow:before {color: black;}#sk-container-id-1 div.sk-toggleable__content {max-height: 0;max-width: 0;overflow: hidden;text-align: left;background-color: #f0f8ff;}#sk-container-id-1 div.sk-toggleable__content pre {margin: 0.2em;color: black;border-radius: 0.25em;background-color: #f0f8ff;}#sk-container-id-1 input.sk-toggleable__control:checked~div.sk-toggleable__content {max-height: 200px;max-width: 100%;overflow: auto;}#sk-container-id-1 input.sk-toggleable__control:checked~label.sk-toggleable__label-arrow:before {content: \"▾\";}#sk-container-id-1 div.sk-estimator input.sk-toggleable__control:checked~label.sk-toggleable__label {background-color: #d4ebff;}#sk-container-id-1 div.sk-label input.sk-toggleable__control:checked~label.sk-toggleable__label {background-color: #d4ebff;}#sk-container-id-1 input.sk-hidden--visually {border: 0;clip: rect(1px 1px 1px 1px);clip: rect(1px, 1px, 1px, 1px);height: 1px;margin: -1px;overflow: hidden;padding: 0;position: absolute;width: 1px;}#sk-container-id-1 div.sk-estimator {font-family: monospace;background-color: #f0f8ff;border: 1px dotted black;border-radius: 0.25em;box-sizing: border-box;margin-bottom: 0.5em;}#sk-container-id-1 div.sk-estimator:hover {background-color: #d4ebff;}#sk-container-id-1 div.sk-parallel-item::after {content: \"\";width: 100%;border-bottom: 1px solid gray;flex-grow: 1;}#sk-container-id-1 div.sk-label:hover label.sk-toggleable__label {background-color: #d4ebff;}#sk-container-id-1 div.sk-serial::before {content: \"\";position: absolute;border-left: 1px solid gray;box-sizing: border-box;top: 0;bottom: 0;left: 50%;z-index: 0;}#sk-container-id-1 div.sk-serial {display: flex;flex-direction: column;align-items: center;background-color: white;padding-right: 0.2em;padding-left: 0.2em;position: relative;}#sk-container-id-1 div.sk-item {position: relative;z-index: 1;}#sk-container-id-1 div.sk-parallel {display: flex;align-items: stretch;justify-content: center;background-color: white;position: relative;}#sk-container-id-1 div.sk-item::before, #sk-container-id-1 div.sk-parallel-item::before {content: \"\";position: absolute;border-left: 1px solid gray;box-sizing: border-box;top: 0;bottom: 0;left: 50%;z-index: -1;}#sk-container-id-1 div.sk-parallel-item {display: flex;flex-direction: column;z-index: 1;position: relative;background-color: white;}#sk-container-id-1 div.sk-parallel-item:first-child::after {align-self: flex-end;width: 50%;}#sk-container-id-1 div.sk-parallel-item:last-child::after {align-self: flex-start;width: 50%;}#sk-container-id-1 div.sk-parallel-item:only-child::after {width: 0;}#sk-container-id-1 div.sk-dashed-wrapped {border: 1px dashed gray;margin: 0 0.4em 0.5em 0.4em;box-sizing: border-box;padding-bottom: 0.4em;background-color: white;}#sk-container-id-1 div.sk-label label {font-family: monospace;font-weight: bold;display: inline-block;line-height: 1.2em;}#sk-container-id-1 div.sk-label-container {text-align: center;}#sk-container-id-1 div.sk-container {/* jupyter's `normalize.less` sets `[hidden] { display: none; }` but bootstrap.min.css set `[hidden] { display: none !important; }` so we also need the `!important` here to be able to override the default hidden behavior on the sphinx rendered scikit-learn.org. See: https://github.com/scikit-learn/scikit-learn/issues/21755 */display: inline-block !important;position: relative;}#sk-container-id-1 div.sk-text-repr-fallback {display: none;}</style><div id=\"sk-container-id-1\" class=\"sk-top-container\"><div class=\"sk-text-repr-fallback\"><pre>LGBMRegressor(learning_rate=0.03, max_depth=7, n_estimators=4000,\n",
       "              random_state=34, verbose=-1, verbosity=-1)</pre><b>In a Jupyter environment, please rerun this cell to show the HTML representation or trust the notebook. <br />On GitHub, the HTML representation is unable to render, please try loading this page with nbviewer.org.</b></div><div class=\"sk-container\" hidden><div class=\"sk-item\"><div class=\"sk-estimator sk-toggleable\"><input class=\"sk-toggleable__control sk-hidden--visually\" id=\"sk-estimator-id-1\" type=\"checkbox\" checked><label for=\"sk-estimator-id-1\" class=\"sk-toggleable__label sk-toggleable__label-arrow\">LGBMRegressor</label><div class=\"sk-toggleable__content\"><pre>LGBMRegressor(learning_rate=0.03, max_depth=7, n_estimators=4000,\n",
       "              random_state=34, verbose=-1, verbosity=-1)</pre></div></div></div></div></div>"
      ],
      "text/plain": [
       "LGBMRegressor(learning_rate=0.03, max_depth=7, n_estimators=4000,\n",
       "              random_state=34, verbose=-1, verbosity=-1)"
      ]
     },
     "execution_count": 112,
     "metadata": {},
     "output_type": "execute_result"
    }
   ],
   "source": [
    "rd = joblib.load('data\\model0.pkl') #等价于上方训练出来的模型\n",
    "rd"
   ]
  },
  {
   "cell_type": "code",
   "execution_count": 113,
   "metadata": {},
   "outputs": [
    {
     "data": {
      "text/plain": [
       "array([6.63088142, 6.46933206, 6.58344333, ..., 7.25064304, 7.19503045,\n",
       "       5.51047718])"
      ]
     },
     "execution_count": 113,
     "metadata": {},
     "output_type": "execute_result"
    }
   ],
   "source": [
    "xxx = rd.predict(test_df.drop(['ID'], axis=1))\n",
    "np.exp(xxx / 1).astype(int)"
   ]
  },
  {
   "cell_type": "code",
   "execution_count": null,
   "metadata": {},
   "outputs": [],
   "source": []
  }
 ],
 "metadata": {
  "kernelspec": {
   "display_name": "Python 3.8.13 ('ML')",
   "language": "python",
   "name": "python3"
  },
  "language_info": {
   "codemirror_mode": {
    "name": "ipython",
    "version": 3
   },
   "file_extension": ".py",
   "mimetype": "text/x-python",
   "name": "python",
   "nbconvert_exporter": "python",
   "pygments_lexer": "ipython3",
   "version": "3.8.13"
  },
  "orig_nbformat": 4,
  "vscode": {
   "interpreter": {
    "hash": "0e709c4988dd496cad6cf9f2692ac7822b9995cabcb3fe3c2bc9d931b0e033f9"
   }
  }
 },
 "nbformat": 4,
 "nbformat_minor": 2
}

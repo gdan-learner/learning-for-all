{
 "cells": [
  {
   "cell_type": "code",
   "execution_count": 1,
   "metadata": {},
   "outputs": [
    {
     "name": "stdout",
     "output_type": "stream",
     "text": [
      "特征值：(4.406219615205062+0j)\n",
      "对应的特征向量：\n",
      "[[-0.09629213+0.j]\n",
      " [-0.25790788+0.j]\n",
      " [-0.46975793+0.j]\n",
      " [-0.83877222+0.j]]\n",
      "\n",
      "特征值：(-0.16142509306185443+1.3179222056827207j)\n",
      "对应的特征向量：\n",
      "[[ 0.07821608-0.05727732j]\n",
      " [-0.27111845-0.19589286j]\n",
      " [-0.17295434+0.62635379j]\n",
      " [ 0.67564047+0.j        ]]\n",
      "\n",
      "特征值：(-0.16142509306185443-1.3179222056827207j)\n",
      "对应的特征向量：\n",
      "[[ 0.07821608+0.05727732j]\n",
      " [-0.27111845+0.19589286j]\n",
      " [-0.17295434-0.62635379j]\n",
      " [ 0.67564047-0.j        ]]\n",
      "\n",
      "特征值：(-0.08336942908134953+0j)\n",
      "对应的特征向量：\n",
      "[[-0.05870155+0.j]\n",
      " [ 0.02872215+0.j]\n",
      " [-0.24139953+0.j]\n",
      " [ 0.96822282+0.j]]\n",
      "\n",
      "最大特征值为：4.406219615205062\n",
      "对应的特征向量：\n",
      "[-0.09629213 -0.25790788 -0.46975793 -0.83877222]\n"
     ]
    }
   ],
   "source": [
    "import numpy as np\n",
    "\n",
    "#输入矩阵\n",
    "# A = np.array([[1, 1/3, 1/2, 1/5],\n",
    "#               [3, 1, 1/3, 1/2],\n",
    "#               [2, 3, 1, 1/2],\n",
    "#               [5, 2, 1/2, 1]])\n",
    "\n",
    "A = np.array([[1, 1/5, 1/3, 1/7],\n",
    "              [5, 1, 1/4, 1/3],\n",
    "              [3, 4, 1, 1/3],\n",
    "              [7, 3, 3, 1]])\n",
    "\n",
    "#求解特征值即特征向量\n",
    "lamda = np.linalg.eig(A)\n",
    "\n",
    "for i in range(len(lamda[0])):\n",
    "    print('特征值：{0}\\n对应的特征向量：\\n{1}\\n'.format(lamda[0][i], np.transpose([lamda[1][:,i]])))\n",
    "\n",
    "index = np.argmax(lamda[0])\n",
    "lamda_max = np.real(lamda[0][index])\n",
    "vector = lamda[1][:,index]\n",
    "\n",
    "vector_final = np.transpose((np.real(vector)))\n",
    "\n",
    "print('最大特征值为：{0}\\n对应的特征向量：\\n{1}'.format(lamda_max, vector_final))\n"
   ]
  },
  {
   "cell_type": "code",
   "execution_count": 2,
   "metadata": {},
   "outputs": [],
   "source": [
    "a = [0.1894905,0.37176764,0.61372791,0.67023893]\n",
    "b = [-0.09629213,-0.25790788,-0.46975793,-0.83877222]"
   ]
  },
  {
   "cell_type": "code",
   "execution_count": 3,
   "metadata": {},
   "outputs": [
    {
     "data": {
      "text/plain": [
       "array([0.10269236, 0.20147551, 0.3326033 , 0.36322884])"
      ]
     },
     "execution_count": 3,
     "metadata": {},
     "output_type": "execute_result"
    }
   ],
   "source": [
    "np.divide(a, sum(a))"
   ]
  },
  {
   "cell_type": "code",
   "execution_count": 4,
   "metadata": {},
   "outputs": [
    {
     "data": {
      "text/plain": [
       "array([0.05791206, 0.15511109, 0.28252205, 0.50445481])"
      ]
     },
     "execution_count": 4,
     "metadata": {},
     "output_type": "execute_result"
    }
   ],
   "source": [
    "np.divide(b, sum(b))"
   ]
  },
  {
   "cell_type": "code",
   "execution_count": null,
   "metadata": {},
   "outputs": [],
   "source": []
  }
 ],
 "metadata": {
  "kernelspec": {
   "display_name": "Python 3.8.13 ('ML')",
   "language": "python",
   "name": "python3"
  },
  "language_info": {
   "codemirror_mode": {
    "name": "ipython",
    "version": 3
   },
   "file_extension": ".py",
   "mimetype": "text/x-python",
   "name": "python",
   "nbconvert_exporter": "python",
   "pygments_lexer": "ipython3",
   "version": "3.8.13"
  },
  "orig_nbformat": 4,
  "vscode": {
   "interpreter": {
    "hash": "0e709c4988dd496cad6cf9f2692ac7822b9995cabcb3fe3c2bc9d931b0e033f9"
   }
  }
 },
 "nbformat": 4,
 "nbformat_minor": 2
}

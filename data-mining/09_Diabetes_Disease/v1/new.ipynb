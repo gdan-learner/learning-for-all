{
 "cells": [
  {
   "cell_type": "code",
   "execution_count": 391,
   "metadata": {},
   "outputs": [],
   "source": [
    "import pandas as pd\n",
    "from sklearn.tree import DecisionTreeClassifier"
   ]
  },
  {
   "cell_type": "code",
   "execution_count": 392,
   "metadata": {},
   "outputs": [],
   "source": [
    "#数据预处理\n",
    "data1=pd.read_csv('../data/比赛训练集.csv',encoding='gbk')\n",
    "data2=pd.read_csv('../data/糖尿病遗传风险检测挑战赛测试集B.csv',encoding='utf-8')"
   ]
  },
  {
   "cell_type": "code",
   "execution_count": 393,
   "metadata": {},
   "outputs": [],
   "source": [
    "#label标记为-1\n",
    "data2['患有糖尿病标识']=-1"
   ]
  },
  {
   "cell_type": "code",
   "execution_count": 394,
   "metadata": {},
   "outputs": [
    {
     "data": {
      "text/html": [
       "<div>\n",
       "<style scoped>\n",
       "    .dataframe tbody tr th:only-of-type {\n",
       "        vertical-align: middle;\n",
       "    }\n",
       "\n",
       "    .dataframe tbody tr th {\n",
       "        vertical-align: top;\n",
       "    }\n",
       "\n",
       "    .dataframe thead th {\n",
       "        text-align: right;\n",
       "    }\n",
       "</style>\n",
       "<table border=\"1\" class=\"dataframe\">\n",
       "  <thead>\n",
       "    <tr style=\"text-align: right;\">\n",
       "      <th></th>\n",
       "      <th>编号</th>\n",
       "      <th>性别</th>\n",
       "      <th>出生年份</th>\n",
       "      <th>体重指数</th>\n",
       "      <th>糖尿病家族史</th>\n",
       "      <th>舒张压</th>\n",
       "      <th>口服耐糖量测试</th>\n",
       "      <th>胰岛素释放实验</th>\n",
       "      <th>肱三头肌皮褶厚度</th>\n",
       "      <th>患有糖尿病标识</th>\n",
       "    </tr>\n",
       "  </thead>\n",
       "  <tbody>\n",
       "    <tr>\n",
       "      <th>0</th>\n",
       "      <td>1</td>\n",
       "      <td>0</td>\n",
       "      <td>1996</td>\n",
       "      <td>30.1</td>\n",
       "      <td>无记录</td>\n",
       "      <td>106.0</td>\n",
       "      <td>3.818</td>\n",
       "      <td>7.89</td>\n",
       "      <td>0.00</td>\n",
       "      <td>0</td>\n",
       "    </tr>\n",
       "    <tr>\n",
       "      <th>1</th>\n",
       "      <td>2</td>\n",
       "      <td>0</td>\n",
       "      <td>1988</td>\n",
       "      <td>27.5</td>\n",
       "      <td>无记录</td>\n",
       "      <td>84.0</td>\n",
       "      <td>-1.000</td>\n",
       "      <td>0.0</td>\n",
       "      <td>14.70</td>\n",
       "      <td>0</td>\n",
       "    </tr>\n",
       "    <tr>\n",
       "      <th>2</th>\n",
       "      <td>3</td>\n",
       "      <td>1</td>\n",
       "      <td>1988</td>\n",
       "      <td>36.5</td>\n",
       "      <td>无记录</td>\n",
       "      <td>85.0</td>\n",
       "      <td>7.131</td>\n",
       "      <td>0.0</td>\n",
       "      <td>40.10</td>\n",
       "      <td>1</td>\n",
       "    </tr>\n",
       "    <tr>\n",
       "      <th>3</th>\n",
       "      <td>4</td>\n",
       "      <td>1</td>\n",
       "      <td>1992</td>\n",
       "      <td>29.5</td>\n",
       "      <td>无记录</td>\n",
       "      <td>91.0</td>\n",
       "      <td>7.041</td>\n",
       "      <td>0.0</td>\n",
       "      <td>0.00</td>\n",
       "      <td>0</td>\n",
       "    </tr>\n",
       "    <tr>\n",
       "      <th>4</th>\n",
       "      <td>5</td>\n",
       "      <td>0</td>\n",
       "      <td>1998</td>\n",
       "      <td>42.0</td>\n",
       "      <td>叔叔或者姑姑有一方患有糖尿病</td>\n",
       "      <td>NaN</td>\n",
       "      <td>7.134</td>\n",
       "      <td>0.0</td>\n",
       "      <td>0.00</td>\n",
       "      <td>1</td>\n",
       "    </tr>\n",
       "    <tr>\n",
       "      <th>...</th>\n",
       "      <td>...</td>\n",
       "      <td>...</td>\n",
       "      <td>...</td>\n",
       "      <td>...</td>\n",
       "      <td>...</td>\n",
       "      <td>...</td>\n",
       "      <td>...</td>\n",
       "      <td>...</td>\n",
       "      <td>...</td>\n",
       "      <td>...</td>\n",
       "    </tr>\n",
       "    <tr>\n",
       "      <th>9065</th>\n",
       "      <td>3996</td>\n",
       "      <td>0</td>\n",
       "      <td>2007</td>\n",
       "      <td>36.5</td>\n",
       "      <td>无记录</td>\n",
       "      <td>66</td>\n",
       "      <td>3.665</td>\n",
       "      <td>13.28</td>\n",
       "      <td>1.87</td>\n",
       "      <td>-1</td>\n",
       "    </tr>\n",
       "    <tr>\n",
       "      <th>9066</th>\n",
       "      <td>3997</td>\n",
       "      <td>1</td>\n",
       "      <td>1990</td>\n",
       "      <td>36.1</td>\n",
       "      <td>叔叔或者姑姑有一方患有糖尿病</td>\n",
       "      <td>60</td>\n",
       "      <td>5.644</td>\n",
       "      <td>8.2</td>\n",
       "      <td>3.34</td>\n",
       "      <td>-1</td>\n",
       "    </tr>\n",
       "    <tr>\n",
       "      <th>9067</th>\n",
       "      <td>3998</td>\n",
       "      <td>0</td>\n",
       "      <td>1984</td>\n",
       "      <td>44.6</td>\n",
       "      <td>父母有一方患有糖尿病</td>\n",
       "      <td>83</td>\n",
       "      <td>5.427</td>\n",
       "      <td>32.25</td>\n",
       "      <td>4.61</td>\n",
       "      <td>-1</td>\n",
       "    </tr>\n",
       "    <tr>\n",
       "      <th>9068</th>\n",
       "      <td>3999</td>\n",
       "      <td>1</td>\n",
       "      <td>1963</td>\n",
       "      <td>21.9</td>\n",
       "      <td>父母有一方患有糖尿病</td>\n",
       "      <td>89</td>\n",
       "      <td>8.509</td>\n",
       "      <td>0</td>\n",
       "      <td>0.00</td>\n",
       "      <td>-1</td>\n",
       "    </tr>\n",
       "    <tr>\n",
       "      <th>9069</th>\n",
       "      <td>4000</td>\n",
       "      <td>1</td>\n",
       "      <td>2011</td>\n",
       "      <td>18.1</td>\n",
       "      <td>无记录</td>\n",
       "      <td>57</td>\n",
       "      <td>6.710</td>\n",
       "      <td>0</td>\n",
       "      <td>2.26</td>\n",
       "      <td>-1</td>\n",
       "    </tr>\n",
       "  </tbody>\n",
       "</table>\n",
       "<p>9070 rows × 10 columns</p>\n",
       "</div>"
      ],
      "text/plain": [
       "        编号  性别  出生年份  体重指数          糖尿病家族史    舒张压  口服耐糖量测试 胰岛素释放实验  肱三头肌皮褶厚度  \\\n",
       "0        1   0  1996  30.1             无记录  106.0    3.818    7.89      0.00   \n",
       "1        2   0  1988  27.5             无记录   84.0   -1.000     0.0     14.70   \n",
       "2        3   1  1988  36.5             无记录   85.0    7.131     0.0     40.10   \n",
       "3        4   1  1992  29.5             无记录   91.0    7.041     0.0      0.00   \n",
       "4        5   0  1998  42.0  叔叔或者姑姑有一方患有糖尿病    NaN    7.134     0.0      0.00   \n",
       "...    ...  ..   ...   ...             ...    ...      ...     ...       ...   \n",
       "9065  3996   0  2007  36.5             无记录     66    3.665   13.28      1.87   \n",
       "9066  3997   1  1990  36.1  叔叔或者姑姑有一方患有糖尿病     60    5.644     8.2      3.34   \n",
       "9067  3998   0  1984  44.6      父母有一方患有糖尿病     83    5.427   32.25      4.61   \n",
       "9068  3999   1  1963  21.9      父母有一方患有糖尿病     89    8.509       0      0.00   \n",
       "9069  4000   1  2011  18.1             无记录     57    6.710       0      2.26   \n",
       "\n",
       "      患有糖尿病标识  \n",
       "0           0  \n",
       "1           0  \n",
       "2           1  \n",
       "3           0  \n",
       "4           1  \n",
       "...       ...  \n",
       "9065       -1  \n",
       "9066       -1  \n",
       "9067       -1  \n",
       "9068       -1  \n",
       "9069       -1  \n",
       "\n",
       "[9070 rows x 10 columns]"
      ]
     },
     "execution_count": 394,
     "metadata": {},
     "output_type": "execute_result"
    }
   ],
   "source": [
    "#训练集和测试机合并\n",
    "data=pd.concat([data1,data2],axis=0,ignore_index=True)\n",
    "data"
   ]
  },
  {
   "cell_type": "code",
   "execution_count": 395,
   "metadata": {},
   "outputs": [
    {
     "data": {
      "text/plain": [
       "编号          False\n",
       "性别          False\n",
       "出生年份        False\n",
       "体重指数        False\n",
       "糖尿病家族史      False\n",
       "舒张压          True\n",
       "口服耐糖量测试     False\n",
       "胰岛素释放实验     False\n",
       "肱三头肌皮褶厚度    False\n",
       "患有糖尿病标识     False\n",
       "dtype: bool"
      ]
     },
     "execution_count": 395,
     "metadata": {},
     "output_type": "execute_result"
    }
   ],
   "source": [
    "pd.isnull(data).any()"
   ]
  },
  {
   "cell_type": "code",
   "execution_count": 396,
   "metadata": {},
   "outputs": [],
   "source": [
    "#将舒张压特征中的缺失值填充为-1\n",
    "data['舒张压']=data['舒张压'].fillna(-1)"
   ]
  },
  {
   "cell_type": "code",
   "execution_count": 397,
   "metadata": {},
   "outputs": [],
   "source": [
    "\"\"\"\n",
    "将出生年份换算成年龄\n",
    "\"\"\"\n",
    "data['年龄']=2022-data['出生年份']  #换成年龄"
   ]
  },
  {
   "cell_type": "code",
   "execution_count": 398,
   "metadata": {},
   "outputs": [],
   "source": [
    "\"\"\"\n",
    "人体的成人体重指数正常值是在18.5-24之间\n",
    "低于18.5是体重指数过轻\n",
    "在24-27之间是体重超重\n",
    "27以上考虑是肥胖\n",
    "高于32了就是非常的肥胖。\n",
    "\"\"\"\n",
    "def BMI(a):\n",
    "    if containString(\"无记录\", a):\n",
    "        print('ddd')\n",
    "    # print(containString(\"无记录\", a))\n",
    "    if a<18.5:\n",
    "        return 0\n",
    "    elif 18.5<=a<=24:\n",
    "        return 1\n",
    "    elif 24<a<=27:\n",
    "        return 2\n",
    "    elif 27<a<=32:\n",
    "        return 3\n",
    "    else:\n",
    "        return 4\n",
    "\n",
    "data['BMI']=data['体重指数'].apply(BMI)"
   ]
  },
  {
   "cell_type": "code",
   "execution_count": 399,
   "metadata": {},
   "outputs": [],
   "source": [
    "def containString(containStr, string):\n",
    "    \"\"\"\n",
    "    :param containStr: 查找包含的字符\n",
    "    :param string: 所要查找的字符串\n",
    "    :return: \n",
    "    \"\"\"\n",
    "    try:\n",
    "        if isinstance(string, str):\n",
    "            if string.find(containStr):\n",
    "                return True\n",
    "            else:\n",
    "                return False\n",
    "        else:\n",
    "            return False\n",
    "\n",
    "    except Exception:\n",
    "        print(\"error\")"
   ]
  },
  {
   "cell_type": "code",
   "execution_count": 400,
   "metadata": {},
   "outputs": [],
   "source": [
    "#糖尿病家族史\n",
    "\"\"\"\n",
    "无记录\n",
    "叔叔或者姑姑有一方患有糖尿病/叔叔或姑姑有一方患有糖尿病\n",
    "父母有一方患有糖尿病\n",
    "\"\"\"\n",
    "def FHOD(a):\n",
    "    if containString(\"无记录\", a):\n",
    "        return 0\n",
    "    elif a=='叔叔或者姑姑有一方患有糖尿病' or a=='叔叔或姑姑有一方患有糖尿病':\n",
    "        return 1\n",
    "    else:\n",
    "        return 2\n",
    "\n",
    "data['糖尿病家族史']=data['糖尿病家族史'].apply(FHOD)"
   ]
  },
  {
   "cell_type": "code",
   "execution_count": 401,
   "metadata": {},
   "outputs": [],
   "source": [
    "def is_number(num):\n",
    "        s = str(num)\n",
    "        if s.count('.') == 1:  # 小数\n",
    "            new_s = s.split('.')\n",
    "            left_num = new_s[0]\n",
    "            right_num = new_s[1]\n",
    "            if right_num.isdigit():\n",
    "                if left_num.isdigit():\n",
    "                    return True\n",
    "                elif left_num.count('-') == 1 and left_num.startswith('-'):  # 负小数\n",
    "                    tmp_num = left_num.split('-')[-1]\n",
    "                    if tmp_num.isdigit():\n",
    "                        return True\n",
    "        elif s.count(\".\") == 0:  # 整数\n",
    "            if s.isdigit():\n",
    "                return True\n",
    "            elif s.count('-') == 1 and s.startswith('-'):  # 负整数\n",
    "                ss = s.split('-')[-1]\n",
    "                if ss.isdigit():\n",
    "                    return True\n",
    "        return False"
   ]
  },
  {
   "cell_type": "code",
   "execution_count": 402,
   "metadata": {},
   "outputs": [
    {
     "data": {
      "text/plain": [
       "999.0"
      ]
     },
     "execution_count": 402,
     "metadata": {},
     "output_type": "execute_result"
    }
   ],
   "source": [
    "float(str('999'))"
   ]
  },
  {
   "cell_type": "code",
   "execution_count": 403,
   "metadata": {},
   "outputs": [],
   "source": [
    "\"\"\"\n",
    "舒张压范围为60-90\n",
    "\"\"\"\n",
    "def DBP(a):\n",
    "    if not is_number(a):\n",
    "        return -1\n",
    "    elif float(a)<60:\n",
    "        return 0\n",
    "    elif 60<=float(a)<=90:\n",
    "        return 1\n",
    "    elif float(a)>90:\n",
    "        return 2\n",
    "    else:\n",
    "        return a\n",
    "data['DBP']=data['舒张压'].apply(DBP)"
   ]
  },
  {
   "cell_type": "code",
   "execution_count": 404,
   "metadata": {},
   "outputs": [],
   "source": [
    "#------------------------------------\n",
    "#将处理好的特征工程分为训练集和测试集，其中训练集是用来训练模型，测试集用来评估模型准确度\n",
    "#其中编号和患者是否得糖尿病没有任何联系，属于无关特征予以删除\n",
    "train=data[data['患有糖尿病标识'] !=-1]\n",
    "test=data[data['患有糖尿病标识'] ==-1]\n",
    "train_label=train['患有糖尿病标识']\n",
    "train=train.drop(['编号','患有糖尿病标识','舒张压','出生年份'],axis=1)\n",
    "test=test.drop(['编号','患有糖尿病标识','舒张压','出生年份'],axis=1)"
   ]
  },
  {
   "cell_type": "code",
   "execution_count": 405,
   "metadata": {},
   "outputs": [],
   "source": [
    "def Filter(a):\n",
    "    if not is_number(a):\n",
    "        return -1\n",
    "    else:\n",
    "        return a\n",
    "\n",
    "for i in test.columns.tolist():\n",
    "    test[i]=test[i].apply(Filter)\n",
    "\n",
    "for i in train.columns.tolist():\n",
    "    train[i]=train[i].apply(Filter)"
   ]
  },
  {
   "cell_type": "code",
   "execution_count": 406,
   "metadata": {},
   "outputs": [
    {
     "data": {
      "text/plain": [
       "array([0, 0, 1, ..., 1, 1, 0], dtype=int64)"
      ]
     },
     "execution_count": 406,
     "metadata": {},
     "output_type": "execute_result"
    }
   ],
   "source": [
    "#----------------模型训练----------------\n",
    "model = DecisionTreeClassifier()\n",
    "model.fit(train, train_label)\n",
    "y_pre=model.predict(test)\n",
    "y_pre"
   ]
  },
  {
   "cell_type": "code",
   "execution_count": 407,
   "metadata": {},
   "outputs": [
    {
     "data": {
      "text/plain": [
       "4000"
      ]
     },
     "execution_count": 407,
     "metadata": {},
     "output_type": "execute_result"
    }
   ],
   "source": [
    "len([i+1 for i in range(len(y_pre))])"
   ]
  },
  {
   "cell_type": "code",
   "execution_count": 408,
   "metadata": {},
   "outputs": [],
   "source": [
    "#----------------结果输出----------------\n",
    "# result=pd.read_csv('../data/提交示例.csv')\n",
    "result = {'uuid':0,'label':0}\n",
    "result['uuid']=[i+1 for i in range(len(y_pre))]\n",
    "result['label']=y_pre\n",
    "result = pd.DataFrame(result)\n",
    "result.to_csv('result-baseline.csv',index=False)"
   ]
  },
  {
   "cell_type": "code",
   "execution_count": null,
   "metadata": {},
   "outputs": [],
   "source": []
  }
 ],
 "metadata": {
  "kernelspec": {
   "display_name": "Python 3.8.13 ('ML')",
   "language": "python",
   "name": "python3"
  },
  "language_info": {
   "codemirror_mode": {
    "name": "ipython",
    "version": 3
   },
   "file_extension": ".py",
   "mimetype": "text/x-python",
   "name": "python",
   "nbconvert_exporter": "python",
   "pygments_lexer": "ipython3",
   "version": "3.8.13"
  },
  "orig_nbformat": 4,
  "vscode": {
   "interpreter": {
    "hash": "0e709c4988dd496cad6cf9f2692ac7822b9995cabcb3fe3c2bc9d931b0e033f9"
   }
  }
 },
 "nbformat": 4,
 "nbformat_minor": 2
}
